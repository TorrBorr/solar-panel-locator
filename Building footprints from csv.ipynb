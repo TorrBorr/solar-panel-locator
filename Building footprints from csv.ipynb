{
 "cells": [
  {
   "cell_type": "code",
   "execution_count": 1,
   "metadata": {
    "collapsed": false
   },
   "outputs": [
    {
     "name": "stdout",
     "output_type": "stream",
     "text": [
      "1.1.0\n"
     ]
    }
   ],
   "source": [
    "import os\n",
    "import glob\n",
    "import cv2\n",
    "import geopandas as gpd\n",
    "import h5py # just a safety check so the checkpoint callback doesnt crash\n",
    "import matplotlib.pyplot as plt\n",
    "import numpy as np\n",
    "import rasterio\n",
    "from scipy.misc import imresize\n",
    "import shapely.geometry\n",
    "import tensorflow as tf\n",
    "print(tf.__version__)\n",
    "import pandas as pd\n",
    "from geopandas import GeoDataFrame\n",
    "\n",
    "import warnings\n",
    "warnings.filterwarnings('ignore')\n",
    "\n",
    "%matplotlib inline"
   ]
  },
  {
   "cell_type": "markdown",
   "metadata": {},
   "source": [
    "Read in csv with building footprints and convert the text to a geometries then polygons:"
   ]
  },
  {
   "cell_type": "code",
   "execution_count": 12,
   "metadata": {
    "collapsed": false
   },
   "outputs": [
    {
     "data": {
      "text/html": [
       "<div>\n",
       "<style>\n",
       "    .dataframe thead tr:only-child th {\n",
       "        text-align: right;\n",
       "    }\n",
       "\n",
       "    .dataframe thead th {\n",
       "        text-align: left;\n",
       "    }\n",
       "\n",
       "    .dataframe tbody tr th {\n",
       "        vertical-align: top;\n",
       "    }\n",
       "</style>\n",
       "<table border=\"1\" class=\"dataframe\">\n",
       "  <thead>\n",
       "    <tr style=\"text-align: right;\">\n",
       "      <th></th>\n",
       "      <th>ImageId</th>\n",
       "      <th>BuildingId</th>\n",
       "      <th>PolygonWKT_Pix</th>\n",
       "      <th>PolygonWKT_Geo</th>\n",
       "    </tr>\n",
       "  </thead>\n",
       "  <tbody>\n",
       "    <tr>\n",
       "      <th>0</th>\n",
       "      <td>AOI_2_Vegas_img1209</td>\n",
       "      <td>1</td>\n",
       "      <td>POLYGON ((68.71 623.1 0,35.71 618.15 0,33.59 6...</td>\n",
       "      <td>POLYGON ((-115.27398708 36.20208033800003 0,-1...</td>\n",
       "    </tr>\n",
       "    <tr>\n",
       "      <th>1</th>\n",
       "      <td>AOI_2_Vegas_img1209</td>\n",
       "      <td>2</td>\n",
       "      <td>POLYGON ((221.33 645.02 0,185.7 640.33 0,184.4...</td>\n",
       "      <td>POLYGON ((-115.273575016999985 36.202021143000...</td>\n",
       "    </tr>\n",
       "    <tr>\n",
       "      <th>2</th>\n",
       "      <td>AOI_2_Vegas_img1209</td>\n",
       "      <td>3</td>\n",
       "      <td>POLYGON ((150.3 650.0 0,160.9 650.0 0,150.58 6...</td>\n",
       "      <td>POLYGON ((-115.273766779991007 36.202007699876...</td>\n",
       "    </tr>\n",
       "    <tr>\n",
       "      <th>3</th>\n",
       "      <td>AOI_2_Vegas_img1209</td>\n",
       "      <td>4</td>\n",
       "      <td>POLYGON ((141.86 636.02 0,98.99 630.03 0,99.57...</td>\n",
       "      <td>POLYGON ((-115.273789578999981 36.202045452000...</td>\n",
       "    </tr>\n",
       "    <tr>\n",
       "      <th>4</th>\n",
       "      <td>AOI_2_Vegas_img1209</td>\n",
       "      <td>5</td>\n",
       "      <td>POLYGON ((227.4 650.0 0,240.73 650.0 0,227.69 ...</td>\n",
       "      <td>POLYGON ((-115.273558615661273 36.202007699876...</td>\n",
       "    </tr>\n",
       "  </tbody>\n",
       "</table>\n",
       "</div>"
      ],
      "text/plain": [
       "               ImageId  BuildingId  \\\n",
       "0  AOI_2_Vegas_img1209           1   \n",
       "1  AOI_2_Vegas_img1209           2   \n",
       "2  AOI_2_Vegas_img1209           3   \n",
       "3  AOI_2_Vegas_img1209           4   \n",
       "4  AOI_2_Vegas_img1209           5   \n",
       "\n",
       "                                      PolygonWKT_Pix  \\\n",
       "0  POLYGON ((68.71 623.1 0,35.71 618.15 0,33.59 6...   \n",
       "1  POLYGON ((221.33 645.02 0,185.7 640.33 0,184.4...   \n",
       "2  POLYGON ((150.3 650.0 0,160.9 650.0 0,150.58 6...   \n",
       "3  POLYGON ((141.86 636.02 0,98.99 630.03 0,99.57...   \n",
       "4  POLYGON ((227.4 650.0 0,240.73 650.0 0,227.69 ...   \n",
       "\n",
       "                                      PolygonWKT_Geo  \n",
       "0  POLYGON ((-115.27398708 36.20208033800003 0,-1...  \n",
       "1  POLYGON ((-115.273575016999985 36.202021143000...  \n",
       "2  POLYGON ((-115.273766779991007 36.202007699876...  \n",
       "3  POLYGON ((-115.273789578999981 36.202045452000...  \n",
       "4  POLYGON ((-115.273558615661273 36.202007699876...  "
      ]
     },
     "execution_count": 12,
     "metadata": {},
     "output_type": "execute_result"
    }
   ],
   "source": [
    "df_buildings = pd.read_csv('/home/vaston/Metis_Project_5/Las_Vegas_Pictures/AOI_2_Vegas_Train/summaryData/AOI_2_Vegas_Train_Building_Solutions.csv')\n",
    "df_buildings.head()\n",
    "# df_buildings_gpd = gpd.read_file('/home/vaston/Metis_Project_5/Las_Vegas_Pictures/AOI_2_Vegas_Train/summaryData/AOI_2_Vegas_Train_Building_Solutions.csv')\n",
    "# df_buildings_gpd.head()"
   ]
  },
  {
   "cell_type": "code",
   "execution_count": 13,
   "metadata": {
    "collapsed": false
   },
   "outputs": [
    {
     "data": {
      "text/html": [
       "<div>\n",
       "<style>\n",
       "    .dataframe thead tr:only-child th {\n",
       "        text-align: right;\n",
       "    }\n",
       "\n",
       "    .dataframe thead th {\n",
       "        text-align: left;\n",
       "    }\n",
       "\n",
       "    .dataframe tbody tr th {\n",
       "        vertical-align: top;\n",
       "    }\n",
       "</style>\n",
       "<table border=\"1\" class=\"dataframe\">\n",
       "  <thead>\n",
       "    <tr style=\"text-align: right;\">\n",
       "      <th></th>\n",
       "      <th>ImageId</th>\n",
       "      <th>BuildingId</th>\n",
       "      <th>PolygonWKT_Geo</th>\n",
       "    </tr>\n",
       "  </thead>\n",
       "  <tbody>\n",
       "    <tr>\n",
       "      <th>0</th>\n",
       "      <td>AOI_2_Vegas_img1209</td>\n",
       "      <td>1</td>\n",
       "      <td>POLYGON ((-115.27398708 36.20208033800003 0,-1...</td>\n",
       "    </tr>\n",
       "    <tr>\n",
       "      <th>1</th>\n",
       "      <td>AOI_2_Vegas_img1209</td>\n",
       "      <td>2</td>\n",
       "      <td>POLYGON ((-115.273575016999985 36.202021143000...</td>\n",
       "    </tr>\n",
       "    <tr>\n",
       "      <th>2</th>\n",
       "      <td>AOI_2_Vegas_img1209</td>\n",
       "      <td>3</td>\n",
       "      <td>POLYGON ((-115.273766779991007 36.202007699876...</td>\n",
       "    </tr>\n",
       "    <tr>\n",
       "      <th>3</th>\n",
       "      <td>AOI_2_Vegas_img1209</td>\n",
       "      <td>4</td>\n",
       "      <td>POLYGON ((-115.273789578999981 36.202045452000...</td>\n",
       "    </tr>\n",
       "    <tr>\n",
       "      <th>4</th>\n",
       "      <td>AOI_2_Vegas_img1209</td>\n",
       "      <td>5</td>\n",
       "      <td>POLYGON ((-115.273558615661273 36.202007699876...</td>\n",
       "    </tr>\n",
       "  </tbody>\n",
       "</table>\n",
       "</div>"
      ],
      "text/plain": [
       "               ImageId  BuildingId  \\\n",
       "0  AOI_2_Vegas_img1209           1   \n",
       "1  AOI_2_Vegas_img1209           2   \n",
       "2  AOI_2_Vegas_img1209           3   \n",
       "3  AOI_2_Vegas_img1209           4   \n",
       "4  AOI_2_Vegas_img1209           5   \n",
       "\n",
       "                                      PolygonWKT_Geo  \n",
       "0  POLYGON ((-115.27398708 36.20208033800003 0,-1...  \n",
       "1  POLYGON ((-115.273575016999985 36.202021143000...  \n",
       "2  POLYGON ((-115.273766779991007 36.202007699876...  \n",
       "3  POLYGON ((-115.273789578999981 36.202045452000...  \n",
       "4  POLYGON ((-115.273558615661273 36.202007699876...  "
      ]
     },
     "execution_count": 13,
     "metadata": {},
     "output_type": "execute_result"
    }
   ],
   "source": [
    "df_buildings = df_buildings.drop(['PolygonWKT_Pix'],axis=1)\n",
    "#df_buildings = df_buildings.rename(columns = {'PolygonWKT_Geo':'geometry'}) \n",
    "df_buildings.head()"
   ]
  },
  {
   "cell_type": "code",
   "execution_count": 14,
   "metadata": {
    "collapsed": true
   },
   "outputs": [],
   "source": [
    "df_buildings['geometry'] = df_buildings['PolygonWKT_Geo']"
   ]
  },
  {
   "cell_type": "code",
   "execution_count": 15,
   "metadata": {
    "collapsed": false
   },
   "outputs": [
    {
     "data": {
      "text/html": [
       "<div>\n",
       "<style>\n",
       "    .dataframe thead tr:only-child th {\n",
       "        text-align: right;\n",
       "    }\n",
       "\n",
       "    .dataframe thead th {\n",
       "        text-align: left;\n",
       "    }\n",
       "\n",
       "    .dataframe tbody tr th {\n",
       "        vertical-align: top;\n",
       "    }\n",
       "</style>\n",
       "<table border=\"1\" class=\"dataframe\">\n",
       "  <thead>\n",
       "    <tr style=\"text-align: right;\">\n",
       "      <th></th>\n",
       "      <th>ImageId</th>\n",
       "      <th>BuildingId</th>\n",
       "      <th>PolygonWKT_Geo</th>\n",
       "      <th>geometry</th>\n",
       "    </tr>\n",
       "  </thead>\n",
       "  <tbody>\n",
       "    <tr>\n",
       "      <th>110037</th>\n",
       "      <td>AOI_2_Vegas_img4107</td>\n",
       "      <td>4</td>\n",
       "      <td>POLYGON ((-115.202217599790103 36.211160967734...</td>\n",
       "      <td>POLYGON ((-115.202217599790103 36.211160967734...</td>\n",
       "    </tr>\n",
       "    <tr>\n",
       "      <th>110038</th>\n",
       "      <td>AOI_2_Vegas_img4107</td>\n",
       "      <td>5</td>\n",
       "      <td>POLYGON ((-115.202217599790103 36.211566416926...</td>\n",
       "      <td>POLYGON ((-115.202217599790103 36.211566416926...</td>\n",
       "    </tr>\n",
       "    <tr>\n",
       "      <th>110039</th>\n",
       "      <td>AOI_2_Vegas_img4107</td>\n",
       "      <td>6</td>\n",
       "      <td>POLYGON ((-115.202245993999952 36.212132067000...</td>\n",
       "      <td>POLYGON ((-115.202245993999952 36.212132067000...</td>\n",
       "    </tr>\n",
       "    <tr>\n",
       "      <th>110040</th>\n",
       "      <td>AOI_2_Vegas_img4107</td>\n",
       "      <td>7</td>\n",
       "      <td>POLYGON ((-115.203091813999947 36.212135405000...</td>\n",
       "      <td>POLYGON ((-115.203091813999947 36.212135405000...</td>\n",
       "    </tr>\n",
       "    <tr>\n",
       "      <th>110041</th>\n",
       "      <td>AOI_2_Vegas_img2131</td>\n",
       "      <td>1</td>\n",
       "      <td>POLYGON ((-115.246542082999952 36.175687279000...</td>\n",
       "      <td>POLYGON ((-115.246542082999952 36.175687279000...</td>\n",
       "    </tr>\n",
       "  </tbody>\n",
       "</table>\n",
       "</div>"
      ],
      "text/plain": [
       "                    ImageId  BuildingId  \\\n",
       "110037  AOI_2_Vegas_img4107           4   \n",
       "110038  AOI_2_Vegas_img4107           5   \n",
       "110039  AOI_2_Vegas_img4107           6   \n",
       "110040  AOI_2_Vegas_img4107           7   \n",
       "110041  AOI_2_Vegas_img2131           1   \n",
       "\n",
       "                                           PolygonWKT_Geo  \\\n",
       "110037  POLYGON ((-115.202217599790103 36.211160967734...   \n",
       "110038  POLYGON ((-115.202217599790103 36.211566416926...   \n",
       "110039  POLYGON ((-115.202245993999952 36.212132067000...   \n",
       "110040  POLYGON ((-115.203091813999947 36.212135405000...   \n",
       "110041  POLYGON ((-115.246542082999952 36.175687279000...   \n",
       "\n",
       "                                                 geometry  \n",
       "110037  POLYGON ((-115.202217599790103 36.211160967734...  \n",
       "110038  POLYGON ((-115.202217599790103 36.211566416926...  \n",
       "110039  POLYGON ((-115.202245993999952 36.212132067000...  \n",
       "110040  POLYGON ((-115.203091813999947 36.212135405000...  \n",
       "110041  POLYGON ((-115.246542082999952 36.175687279000...  "
      ]
     },
     "execution_count": 15,
     "metadata": {},
     "output_type": "execute_result"
    }
   ],
   "source": [
    "df_buildings.tail()"
   ]
  },
  {
   "cell_type": "code",
   "execution_count": 16,
   "metadata": {
    "collapsed": false
   },
   "outputs": [
    {
     "data": {
      "text/plain": [
       "str"
      ]
     },
     "execution_count": 16,
     "metadata": {},
     "output_type": "execute_result"
    }
   ],
   "source": [
    "type(df_buildings['geometry'].iloc[0])"
   ]
  },
  {
   "cell_type": "markdown",
   "metadata": {},
   "source": [
    "Make a df copy so I dont mess up my df while cleaning the text...."
   ]
  },
  {
   "cell_type": "code",
   "execution_count": 34,
   "metadata": {
    "collapsed": true
   },
   "outputs": [],
   "source": [
    "df_buildings_test = df_buildings.copy()"
   ]
  },
  {
   "cell_type": "code",
   "execution_count": 35,
   "metadata": {
    "collapsed": false,
    "scrolled": false
   },
   "outputs": [
    {
     "ename": "AttributeError",
     "evalue": "'list' object has no attribute 'split'",
     "output_type": "error",
     "traceback": [
      "\u001b[0;31m---------------------------------------------------------------------------\u001b[0m",
      "\u001b[0;31mAttributeError\u001b[0m                            Traceback (most recent call last)",
      "\u001b[0;32m<ipython-input-35-5ce4e8beb53b>\u001b[0m in \u001b[0;36m<module>\u001b[0;34m()\u001b[0m\n\u001b[1;32m      2\u001b[0m \u001b[0;31m#     try:\u001b[0m\u001b[0;34m\u001b[0m\u001b[0;34m\u001b[0m\u001b[0m\n\u001b[1;32m      3\u001b[0m     \u001b[0mtext\u001b[0m \u001b[0;34m=\u001b[0m\u001b[0mdf_buildings_test\u001b[0m\u001b[0;34m[\u001b[0m\u001b[0;34m'geometry'\u001b[0m\u001b[0;34m]\u001b[0m\u001b[0;34m.\u001b[0m\u001b[0miloc\u001b[0m\u001b[0;34m[\u001b[0m\u001b[0mi\u001b[0m\u001b[0;34m]\u001b[0m\u001b[0;34m\u001b[0m\u001b[0m\n\u001b[0;32m----> 4\u001b[0;31m     \u001b[0mpoints_text\u001b[0m \u001b[0;34m=\u001b[0m \u001b[0mtext\u001b[0m\u001b[0;34m.\u001b[0m\u001b[0msplit\u001b[0m\u001b[0;34m(\u001b[0m\u001b[0;34m' ('\u001b[0m\u001b[0;34m)\u001b[0m\u001b[0;34m\u001b[0m\u001b[0m\n\u001b[0m\u001b[1;32m      5\u001b[0m     \u001b[0;32mtry\u001b[0m\u001b[0;34m:\u001b[0m\u001b[0;34m\u001b[0m\u001b[0m\n\u001b[1;32m      6\u001b[0m         \u001b[0mtest_clean\u001b[0m \u001b[0;34m=\u001b[0m \u001b[0mpoints_text\u001b[0m\u001b[0;34m[\u001b[0m\u001b[0;36m1\u001b[0m\u001b[0;34m]\u001b[0m\u001b[0;34m.\u001b[0m\u001b[0mreplace\u001b[0m\u001b[0;34m(\u001b[0m\u001b[0;34m\"(\"\u001b[0m\u001b[0;34m,\u001b[0m\u001b[0;34m''\u001b[0m\u001b[0;34m)\u001b[0m\u001b[0;34m.\u001b[0m\u001b[0mreplace\u001b[0m\u001b[0;34m(\u001b[0m\u001b[0;34m')'\u001b[0m\u001b[0;34m,\u001b[0m\u001b[0;34m''\u001b[0m\u001b[0;34m)\u001b[0m\u001b[0;34m.\u001b[0m\u001b[0msplit\u001b[0m\u001b[0;34m(\u001b[0m\u001b[0;34m','\u001b[0m\u001b[0;34m)\u001b[0m\u001b[0;34m\u001b[0m\u001b[0m\n",
      "\u001b[0;31mAttributeError\u001b[0m: 'list' object has no attribute 'split'"
     ]
    }
   ],
   "source": [
    "for i in range(len(df_buildings_test)):    \n",
    "#     try:\n",
    "    text =df_buildings_test['geometry'].iloc[i] \n",
    "    points_text = text.split(' (')\n",
    "    try:\n",
    "        test_clean = points_text[1].replace(\"(\",'').replace(')','').split(',')\n",
    "    except:\n",
    "        test_clean = \"\"\n",
    "        print(i)\n",
    "    coordinates = []\n",
    "    for pair in test_clean:\n",
    "        pair = pair.replace(' 0','')\n",
    "        coordinates.append(pair)\n",
    "    coordinates_num = []\n",
    "    for points in coordinates:\n",
    "        indiv_points = points.split(' ')\n",
    "        points_list = []\n",
    "        for loc in indiv_points:\n",
    "            loc = float(loc)\n",
    "            points_list.append(loc)\n",
    "        points_list = tuple(points_list)\n",
    "        coordinates_num.append(points_list)\n",
    "    df_buildings_test['geometry'].iloc[i] = coordinates_num\n",
    "#     except:\n",
    "#         print(i)\n",
    "#         df_buildings['geometry'].iloc[i] = ''"
   ]
  },
  {
   "cell_type": "code",
   "execution_count": 38,
   "metadata": {
    "collapsed": false
   },
   "outputs": [
    {
     "data": {
      "text/html": [
       "<div>\n",
       "<style>\n",
       "    .dataframe thead tr:only-child th {\n",
       "        text-align: right;\n",
       "    }\n",
       "\n",
       "    .dataframe thead th {\n",
       "        text-align: left;\n",
       "    }\n",
       "\n",
       "    .dataframe tbody tr th {\n",
       "        vertical-align: top;\n",
       "    }\n",
       "</style>\n",
       "<table border=\"1\" class=\"dataframe\">\n",
       "  <thead>\n",
       "    <tr style=\"text-align: right;\">\n",
       "      <th></th>\n",
       "      <th>ImageId</th>\n",
       "      <th>BuildingId</th>\n",
       "      <th>PolygonWKT_Geo</th>\n",
       "      <th>geometry</th>\n",
       "    </tr>\n",
       "  </thead>\n",
       "  <tbody>\n",
       "    <tr>\n",
       "      <th>110037</th>\n",
       "      <td>AOI_2_Vegas_img4107</td>\n",
       "      <td>4</td>\n",
       "      <td>POLYGON ((-115.202217599790103 36.211160967734...</td>\n",
       "      <td>[(-115.2022176, 36.2111609677), (-115.20293974...</td>\n",
       "    </tr>\n",
       "    <tr>\n",
       "      <th>110038</th>\n",
       "      <td>AOI_2_Vegas_img4107</td>\n",
       "      <td>5</td>\n",
       "      <td>POLYGON ((-115.202217599790103 36.211566416926...</td>\n",
       "      <td>[(-115.2022176, 36.2115664169), (-115.20326127...</td>\n",
       "    </tr>\n",
       "    <tr>\n",
       "      <th>110039</th>\n",
       "      <td>AOI_2_Vegas_img4107</td>\n",
       "      <td>6</td>\n",
       "      <td>POLYGON ((-115.202245993999952 36.212132067000...</td>\n",
       "      <td>[(-115.202245994, 36.212132067), (-115.2022176...</td>\n",
       "    </tr>\n",
       "    <tr>\n",
       "      <th>110040</th>\n",
       "      <td>AOI_2_Vegas_img4107</td>\n",
       "      <td>7</td>\n",
       "      <td>POLYGON ((-115.203091813999947 36.212135405000...</td>\n",
       "      <td>[(-115.203091814, 36.212135405), (-115.2030594...</td>\n",
       "    </tr>\n",
       "    <tr>\n",
       "      <th>110041</th>\n",
       "      <td>AOI_2_Vegas_img2131</td>\n",
       "      <td>1</td>\n",
       "      <td>POLYGON ((-115.246542082999952 36.175687279000...</td>\n",
       "      <td>[(-115.246542083, 36.175687279), (-115.2464646...</td>\n",
       "    </tr>\n",
       "  </tbody>\n",
       "</table>\n",
       "</div>"
      ],
      "text/plain": [
       "                    ImageId  BuildingId  \\\n",
       "110037  AOI_2_Vegas_img4107           4   \n",
       "110038  AOI_2_Vegas_img4107           5   \n",
       "110039  AOI_2_Vegas_img4107           6   \n",
       "110040  AOI_2_Vegas_img4107           7   \n",
       "110041  AOI_2_Vegas_img2131           1   \n",
       "\n",
       "                                           PolygonWKT_Geo  \\\n",
       "110037  POLYGON ((-115.202217599790103 36.211160967734...   \n",
       "110038  POLYGON ((-115.202217599790103 36.211566416926...   \n",
       "110039  POLYGON ((-115.202245993999952 36.212132067000...   \n",
       "110040  POLYGON ((-115.203091813999947 36.212135405000...   \n",
       "110041  POLYGON ((-115.246542082999952 36.175687279000...   \n",
       "\n",
       "                                                 geometry  \n",
       "110037  [(-115.2022176, 36.2111609677), (-115.20293974...  \n",
       "110038  [(-115.2022176, 36.2115664169), (-115.20326127...  \n",
       "110039  [(-115.202245994, 36.212132067), (-115.2022176...  \n",
       "110040  [(-115.203091814, 36.212135405), (-115.2030594...  \n",
       "110041  [(-115.246542083, 36.175687279), (-115.2464646...  "
      ]
     },
     "execution_count": 38,
     "metadata": {},
     "output_type": "execute_result"
    }
   ],
   "source": [
    "df_buildings_test.tail()"
   ]
  },
  {
   "cell_type": "markdown",
   "metadata": {},
   "source": [
    "Pickle the df in this state:"
   ]
  },
  {
   "cell_type": "code",
   "execution_count": 2,
   "metadata": {
    "collapsed": false
   },
   "outputs": [
    {
     "data": {
      "text/html": [
       "<div>\n",
       "<style>\n",
       "    .dataframe thead tr:only-child th {\n",
       "        text-align: right;\n",
       "    }\n",
       "\n",
       "    .dataframe thead th {\n",
       "        text-align: left;\n",
       "    }\n",
       "\n",
       "    .dataframe tbody tr th {\n",
       "        vertical-align: top;\n",
       "    }\n",
       "</style>\n",
       "<table border=\"1\" class=\"dataframe\">\n",
       "  <thead>\n",
       "    <tr style=\"text-align: right;\">\n",
       "      <th></th>\n",
       "      <th>ImageId</th>\n",
       "      <th>BuildingId</th>\n",
       "      <th>PolygonWKT_Geo</th>\n",
       "      <th>geometry</th>\n",
       "    </tr>\n",
       "  </thead>\n",
       "  <tbody>\n",
       "    <tr>\n",
       "      <th>0</th>\n",
       "      <td>AOI_2_Vegas_img1209</td>\n",
       "      <td>1</td>\n",
       "      <td>POLYGON ((-115.27398708 36.20208033800003 0,-1...</td>\n",
       "      <td>[(-115.27398708, 36.202080338), (-115.27400379...</td>\n",
       "    </tr>\n",
       "    <tr>\n",
       "      <th>1</th>\n",
       "      <td>AOI_2_Vegas_img1209</td>\n",
       "      <td>2</td>\n",
       "      <td>POLYGON ((-115.273575016999985 36.202021143000...</td>\n",
       "      <td>[(-115.273575017, 36.202021143), (-115.2735777...</td>\n",
       "    </tr>\n",
       "    <tr>\n",
       "      <th>2</th>\n",
       "      <td>AOI_2_Vegas_img1209</td>\n",
       "      <td>3</td>\n",
       "      <td>POLYGON ((-115.273766779991007 36.202007699876...</td>\n",
       "      <td>[(-115.27376678, 36.2020076999), (-115.2737660...</td>\n",
       "    </tr>\n",
       "    <tr>\n",
       "      <th>3</th>\n",
       "      <td>AOI_2_Vegas_img1209</td>\n",
       "      <td>4</td>\n",
       "      <td>POLYGON ((-115.273789578999981 36.202045452000...</td>\n",
       "      <td>[(-115.273789579, 36.202045452), (-115.2737976...</td>\n",
       "    </tr>\n",
       "    <tr>\n",
       "      <th>4</th>\n",
       "      <td>AOI_2_Vegas_img1209</td>\n",
       "      <td>5</td>\n",
       "      <td>POLYGON ((-115.273558615661273 36.202007699876...</td>\n",
       "      <td>[(-115.273558616, 36.2020076999), (-115.273557...</td>\n",
       "    </tr>\n",
       "  </tbody>\n",
       "</table>\n",
       "</div>"
      ],
      "text/plain": [
       "               ImageId  BuildingId  \\\n",
       "0  AOI_2_Vegas_img1209           1   \n",
       "1  AOI_2_Vegas_img1209           2   \n",
       "2  AOI_2_Vegas_img1209           3   \n",
       "3  AOI_2_Vegas_img1209           4   \n",
       "4  AOI_2_Vegas_img1209           5   \n",
       "\n",
       "                                      PolygonWKT_Geo  \\\n",
       "0  POLYGON ((-115.27398708 36.20208033800003 0,-1...   \n",
       "1  POLYGON ((-115.273575016999985 36.202021143000...   \n",
       "2  POLYGON ((-115.273766779991007 36.202007699876...   \n",
       "3  POLYGON ((-115.273789578999981 36.202045452000...   \n",
       "4  POLYGON ((-115.273558615661273 36.202007699876...   \n",
       "\n",
       "                                            geometry  \n",
       "0  [(-115.27398708, 36.202080338), (-115.27400379...  \n",
       "1  [(-115.273575017, 36.202021143), (-115.2735777...  \n",
       "2  [(-115.27376678, 36.2020076999), (-115.2737660...  \n",
       "3  [(-115.273789579, 36.202045452), (-115.2737976...  \n",
       "4  [(-115.273558616, 36.2020076999), (-115.273557...  "
      ]
     },
     "execution_count": 2,
     "metadata": {},
     "output_type": "execute_result"
    }
   ],
   "source": [
    "import pickle\n",
    "\n",
    "fileObject = open('df_buildings_geo_pickle.p')  \n",
    "# load the object from the file into var b\n",
    "test_data = pickle.load(fileObject)  \n",
    "test_data.head()"
   ]
  },
  {
   "cell_type": "markdown",
   "metadata": {},
   "source": [
    "In case I need to reload the pickle file:"
   ]
  },
  {
   "cell_type": "code",
   "execution_count": 4,
   "metadata": {
    "collapsed": false
   },
   "outputs": [
    {
     "data": {
      "text/html": [
       "<div>\n",
       "<style>\n",
       "    .dataframe thead tr:only-child th {\n",
       "        text-align: right;\n",
       "    }\n",
       "\n",
       "    .dataframe thead th {\n",
       "        text-align: left;\n",
       "    }\n",
       "\n",
       "    .dataframe tbody tr th {\n",
       "        vertical-align: top;\n",
       "    }\n",
       "</style>\n",
       "<table border=\"1\" class=\"dataframe\">\n",
       "  <thead>\n",
       "    <tr style=\"text-align: right;\">\n",
       "      <th></th>\n",
       "      <th>ImageId</th>\n",
       "      <th>BuildingId</th>\n",
       "      <th>PolygonWKT_Geo</th>\n",
       "      <th>geometry</th>\n",
       "    </tr>\n",
       "  </thead>\n",
       "  <tbody>\n",
       "    <tr>\n",
       "      <th>0</th>\n",
       "      <td>AOI_2_Vegas_img1209</td>\n",
       "      <td>1</td>\n",
       "      <td>POLYGON ((-115.27398708 36.20208033800003 0,-1...</td>\n",
       "      <td>[(-115.27398708, 36.202080338), (-115.27400379...</td>\n",
       "    </tr>\n",
       "    <tr>\n",
       "      <th>1</th>\n",
       "      <td>AOI_2_Vegas_img1209</td>\n",
       "      <td>2</td>\n",
       "      <td>POLYGON ((-115.273575016999985 36.202021143000...</td>\n",
       "      <td>[(-115.273575017, 36.202021143), (-115.2735777...</td>\n",
       "    </tr>\n",
       "    <tr>\n",
       "      <th>2</th>\n",
       "      <td>AOI_2_Vegas_img1209</td>\n",
       "      <td>3</td>\n",
       "      <td>POLYGON ((-115.273766779991007 36.202007699876...</td>\n",
       "      <td>[(-115.27376678, 36.2020076999), (-115.2737660...</td>\n",
       "    </tr>\n",
       "    <tr>\n",
       "      <th>3</th>\n",
       "      <td>AOI_2_Vegas_img1209</td>\n",
       "      <td>4</td>\n",
       "      <td>POLYGON ((-115.273789578999981 36.202045452000...</td>\n",
       "      <td>[(-115.273789579, 36.202045452), (-115.2737976...</td>\n",
       "    </tr>\n",
       "    <tr>\n",
       "      <th>4</th>\n",
       "      <td>AOI_2_Vegas_img1209</td>\n",
       "      <td>5</td>\n",
       "      <td>POLYGON ((-115.273558615661273 36.202007699876...</td>\n",
       "      <td>[(-115.273558616, 36.2020076999), (-115.273557...</td>\n",
       "    </tr>\n",
       "  </tbody>\n",
       "</table>\n",
       "</div>"
      ],
      "text/plain": [
       "               ImageId  BuildingId  \\\n",
       "0  AOI_2_Vegas_img1209           1   \n",
       "1  AOI_2_Vegas_img1209           2   \n",
       "2  AOI_2_Vegas_img1209           3   \n",
       "3  AOI_2_Vegas_img1209           4   \n",
       "4  AOI_2_Vegas_img1209           5   \n",
       "\n",
       "                                      PolygonWKT_Geo  \\\n",
       "0  POLYGON ((-115.27398708 36.20208033800003 0,-1...   \n",
       "1  POLYGON ((-115.273575016999985 36.202021143000...   \n",
       "2  POLYGON ((-115.273766779991007 36.202007699876...   \n",
       "3  POLYGON ((-115.273789578999981 36.202045452000...   \n",
       "4  POLYGON ((-115.273558615661273 36.202007699876...   \n",
       "\n",
       "                                            geometry  \n",
       "0  [(-115.27398708, 36.202080338), (-115.27400379...  \n",
       "1  [(-115.273575017, 36.202021143), (-115.2735777...  \n",
       "2  [(-115.27376678, 36.2020076999), (-115.2737660...  \n",
       "3  [(-115.273789579, 36.202045452), (-115.2737976...  \n",
       "4  [(-115.273558616, 36.2020076999), (-115.273557...  "
      ]
     },
     "execution_count": 4,
     "metadata": {},
     "output_type": "execute_result"
    }
   ],
   "source": [
    "import pickle\n",
    "\n",
    "fileObject = open('df_buildings_geo_pickle.p')  \n",
    "# load the object from the file into var b\n",
    "test_data = pickle.load(fileObject)  \n",
    "test_data.head()"
   ]
  },
  {
   "cell_type": "code",
   "execution_count": 5,
   "metadata": {
    "collapsed": false
   },
   "outputs": [
    {
     "data": {
      "text/plain": [
       "[]"
      ]
     },
     "execution_count": 5,
     "metadata": {},
     "output_type": "execute_result"
    }
   ],
   "source": [
    "df_buildings_test = test_data.copy()\n",
    "df_buildings_test.geometry[512] "
   ]
  },
  {
   "cell_type": "markdown",
   "metadata": {},
   "source": [
    "Replace any blank cells with a np.nan:"
   ]
  },
  {
   "cell_type": "code",
   "execution_count": 6,
   "metadata": {
    "collapsed": true
   },
   "outputs": [],
   "source": [
    "#df_buildings_test['geometry'].replace([],'')\n",
    "df_buildings_test.geometry = df_buildings_test.geometry.apply(lambda y: np.nan if len(y)==0 else y)"
   ]
  },
  {
   "cell_type": "code",
   "execution_count": 7,
   "metadata": {
    "collapsed": false
   },
   "outputs": [
    {
     "data": {
      "text/plain": [
       "nan"
      ]
     },
     "execution_count": 7,
     "metadata": {},
     "output_type": "execute_result"
    }
   ],
   "source": [
    "df_buildings_test.geometry[512]"
   ]
  },
  {
   "cell_type": "code",
   "execution_count": 8,
   "metadata": {
    "collapsed": false
   },
   "outputs": [
    {
     "data": {
      "text/plain": [
       "110042"
      ]
     },
     "execution_count": 8,
     "metadata": {},
     "output_type": "execute_result"
    }
   ],
   "source": [
    "len(df_buildings_test)"
   ]
  },
  {
   "cell_type": "markdown",
   "metadata": {},
   "source": [
    "Then drop them:"
   ]
  },
  {
   "cell_type": "code",
   "execution_count": 9,
   "metadata": {
    "collapsed": false
   },
   "outputs": [
    {
     "data": {
      "text/plain": [
       "109807"
      ]
     },
     "execution_count": 9,
     "metadata": {},
     "output_type": "execute_result"
    }
   ],
   "source": [
    "df_buildings_test_na = df_buildings_test.dropna()\n",
    "len(df_buildings_test_na)"
   ]
  },
  {
   "cell_type": "markdown",
   "metadata": {},
   "source": [
    "Make geometries with shapely:"
   ]
  },
  {
   "cell_type": "code",
   "execution_count": 10,
   "metadata": {
    "collapsed": true
   },
   "outputs": [],
   "source": [
    "geo_df_buildings = df_buildings_test_na.set_geometry(df_buildings_test_na.geometry.apply(shapely.geometry.Polygon))\n"
   ]
  },
  {
   "cell_type": "code",
   "execution_count": 11,
   "metadata": {
    "collapsed": false
   },
   "outputs": [
    {
     "data": {
      "text/html": [
       "<div>\n",
       "<style>\n",
       "    .dataframe thead tr:only-child th {\n",
       "        text-align: right;\n",
       "    }\n",
       "\n",
       "    .dataframe thead th {\n",
       "        text-align: left;\n",
       "    }\n",
       "\n",
       "    .dataframe tbody tr th {\n",
       "        vertical-align: top;\n",
       "    }\n",
       "</style>\n",
       "<table border=\"1\" class=\"dataframe\">\n",
       "  <thead>\n",
       "    <tr style=\"text-align: right;\">\n",
       "      <th></th>\n",
       "      <th>ImageId</th>\n",
       "      <th>BuildingId</th>\n",
       "      <th>PolygonWKT_Geo</th>\n",
       "      <th>geometry</th>\n",
       "    </tr>\n",
       "  </thead>\n",
       "  <tbody>\n",
       "    <tr>\n",
       "      <th>0</th>\n",
       "      <td>AOI_2_Vegas_img1209</td>\n",
       "      <td>1</td>\n",
       "      <td>POLYGON ((-115.27398708 36.20208033800003 0,-1...</td>\n",
       "      <td>POLYGON ((-115.27398708 36.20208033800003, -11...</td>\n",
       "    </tr>\n",
       "    <tr>\n",
       "      <th>1</th>\n",
       "      <td>AOI_2_Vegas_img1209</td>\n",
       "      <td>2</td>\n",
       "      <td>POLYGON ((-115.273575016999985 36.202021143000...</td>\n",
       "      <td>POLYGON ((-115.273575017 36.20202114300002, -1...</td>\n",
       "    </tr>\n",
       "    <tr>\n",
       "      <th>2</th>\n",
       "      <td>AOI_2_Vegas_img1209</td>\n",
       "      <td>3</td>\n",
       "      <td>POLYGON ((-115.273766779991007 36.202007699876...</td>\n",
       "      <td>POLYGON ((-115.273766779991 36.2020076998767, ...</td>\n",
       "    </tr>\n",
       "    <tr>\n",
       "      <th>3</th>\n",
       "      <td>AOI_2_Vegas_img1209</td>\n",
       "      <td>4</td>\n",
       "      <td>POLYGON ((-115.273789578999981 36.202045452000...</td>\n",
       "      <td>POLYGON ((-115.273789579 36.20204545200005, -1...</td>\n",
       "    </tr>\n",
       "    <tr>\n",
       "      <th>4</th>\n",
       "      <td>AOI_2_Vegas_img1209</td>\n",
       "      <td>5</td>\n",
       "      <td>POLYGON ((-115.273558615661273 36.202007699876...</td>\n",
       "      <td>POLYGON ((-115.2735586156613 36.2020076998767,...</td>\n",
       "    </tr>\n",
       "    <tr>\n",
       "      <th>5</th>\n",
       "      <td>AOI_2_Vegas_img1209</td>\n",
       "      <td>6</td>\n",
       "      <td>POLYGON ((-115.27417259993355 36.2025144913411...</td>\n",
       "      <td>POLYGON ((-115.2741725999336 36.20251449134115...</td>\n",
       "    </tr>\n",
       "    <tr>\n",
       "      <th>6</th>\n",
       "      <td>AOI_2_Vegas_img1209</td>\n",
       "      <td>7</td>\n",
       "      <td>POLYGON ((-115.273968876999959 36.202492435000...</td>\n",
       "      <td>POLYGON ((-115.273968877 36.20249243500007, -1...</td>\n",
       "    </tr>\n",
       "    <tr>\n",
       "      <th>7</th>\n",
       "      <td>AOI_2_Vegas_img1209</td>\n",
       "      <td>8</td>\n",
       "      <td>POLYGON ((-115.272754125999938 36.202167611000...</td>\n",
       "      <td>POLYGON ((-115.2727541259999 36.20216761100005...</td>\n",
       "    </tr>\n",
       "    <tr>\n",
       "      <th>8</th>\n",
       "      <td>AOI_2_Vegas_img1209</td>\n",
       "      <td>9</td>\n",
       "      <td>POLYGON ((-115.273366127999964 36.202400240000...</td>\n",
       "      <td>POLYGON ((-115.273366128 36.20240024000003, -1...</td>\n",
       "    </tr>\n",
       "    <tr>\n",
       "      <th>9</th>\n",
       "      <td>AOI_2_Vegas_img1209</td>\n",
       "      <td>10</td>\n",
       "      <td>POLYGON ((-115.273156992999986 36.202357965000...</td>\n",
       "      <td>POLYGON ((-115.273156993 36.20235796500003, -1...</td>\n",
       "    </tr>\n",
       "    <tr>\n",
       "      <th>10</th>\n",
       "      <td>AOI_2_Vegas_img1209</td>\n",
       "      <td>11</td>\n",
       "      <td>POLYGON ((-115.272417599930051 36.202128373978...</td>\n",
       "      <td>POLYGON ((-115.2724175999301 36.20212837397887...</td>\n",
       "    </tr>\n",
       "    <tr>\n",
       "      <th>11</th>\n",
       "      <td>AOI_2_Vegas_img1209</td>\n",
       "      <td>12</td>\n",
       "      <td>POLYGON ((-115.27250087799996 36.2022827830000...</td>\n",
       "      <td>POLYGON ((-115.272500878 36.20228278300004, -1...</td>\n",
       "    </tr>\n",
       "    <tr>\n",
       "      <th>12</th>\n",
       "      <td>AOI_2_Vegas_img1209</td>\n",
       "      <td>13</td>\n",
       "      <td>POLYGON ((-115.273619250999957 36.202296232000...</td>\n",
       "      <td>POLYGON ((-115.273619251 36.20229623200004, -1...</td>\n",
       "    </tr>\n",
       "    <tr>\n",
       "      <th>13</th>\n",
       "      <td>AOI_2_Vegas_img1209</td>\n",
       "      <td>14</td>\n",
       "      <td>POLYGON ((-115.273118964999981 36.202360842000...</td>\n",
       "      <td>POLYGON ((-115.273118965 36.20236084200008, -1...</td>\n",
       "    </tr>\n",
       "    <tr>\n",
       "      <th>14</th>\n",
       "      <td>AOI_2_Vegas_img1209</td>\n",
       "      <td>15</td>\n",
       "      <td>POLYGON ((-115.272417599930051 36.202386386225...</td>\n",
       "      <td>POLYGON ((-115.2724175999301 36.2023863862258,...</td>\n",
       "    </tr>\n",
       "    <tr>\n",
       "      <th>15</th>\n",
       "      <td>AOI_2_Vegas_img1209</td>\n",
       "      <td>16</td>\n",
       "      <td>POLYGON ((-115.272417599930051 36.202415964669...</td>\n",
       "      <td>POLYGON ((-115.2724175999301 36.20241596466997...</td>\n",
       "    </tr>\n",
       "    <tr>\n",
       "      <th>16</th>\n",
       "      <td>AOI_2_Vegas_img1209</td>\n",
       "      <td>17</td>\n",
       "      <td>POLYGON ((-115.272527605999983 36.202566213000...</td>\n",
       "      <td>POLYGON ((-115.272527606 36.20256621300007, -1...</td>\n",
       "    </tr>\n",
       "    <tr>\n",
       "      <th>17</th>\n",
       "      <td>AOI_2_Vegas_img1209</td>\n",
       "      <td>18</td>\n",
       "      <td>POLYGON ((-115.272730483999965 36.202583723000...</td>\n",
       "      <td>POLYGON ((-115.272730484 36.20258372300003, -1...</td>\n",
       "    </tr>\n",
       "    <tr>\n",
       "      <th>18</th>\n",
       "      <td>AOI_2_Vegas_img1209</td>\n",
       "      <td>19</td>\n",
       "      <td>POLYGON ((-115.272927632999938 36.202627937000...</td>\n",
       "      <td>POLYGON ((-115.2729276329999 36.20262793700005...</td>\n",
       "    </tr>\n",
       "    <tr>\n",
       "      <th>19</th>\n",
       "      <td>AOI_2_Vegas_img1209</td>\n",
       "      <td>20</td>\n",
       "      <td>POLYGON ((-115.273138605999975 36.202612959000...</td>\n",
       "      <td>POLYGON ((-115.273138606 36.20261295900008, -1...</td>\n",
       "    </tr>\n",
       "    <tr>\n",
       "      <th>20</th>\n",
       "      <td>AOI_2_Vegas_img1209</td>\n",
       "      <td>21</td>\n",
       "      <td>POLYGON ((-115.273336440999969 36.202689310000...</td>\n",
       "      <td>POLYGON ((-115.273336441 36.20268931000004, -1...</td>\n",
       "    </tr>\n",
       "    <tr>\n",
       "      <th>21</th>\n",
       "      <td>AOI_2_Vegas_img1209</td>\n",
       "      <td>22</td>\n",
       "      <td>POLYGON ((-115.273577818999968 36.202701341000...</td>\n",
       "      <td>POLYGON ((-115.273577819 36.20270134100008, -1...</td>\n",
       "    </tr>\n",
       "    <tr>\n",
       "      <th>22</th>\n",
       "      <td>AOI_2_Vegas_img1209</td>\n",
       "      <td>23</td>\n",
       "      <td>POLYGON ((-115.273744288999978 36.202748019000...</td>\n",
       "      <td>POLYGON ((-115.273744289 36.20274801900007, -1...</td>\n",
       "    </tr>\n",
       "    <tr>\n",
       "      <th>23</th>\n",
       "      <td>AOI_2_Vegas_img1209</td>\n",
       "      <td>24</td>\n",
       "      <td>POLYGON ((-115.273976393999988 36.202633690000...</td>\n",
       "      <td>POLYGON ((-115.273976394 36.20263369000003, -1...</td>\n",
       "    </tr>\n",
       "    <tr>\n",
       "      <th>24</th>\n",
       "      <td>AOI_2_Vegas_img1209</td>\n",
       "      <td>25</td>\n",
       "      <td>POLYGON ((-115.27417259993355 36.2028192971655...</td>\n",
       "      <td>POLYGON ((-115.2741725999336 36.20281929716552...</td>\n",
       "    </tr>\n",
       "    <tr>\n",
       "      <th>25</th>\n",
       "      <td>AOI_2_Vegas_img1209</td>\n",
       "      <td>26</td>\n",
       "      <td>POLYGON ((-115.272904917999938 36.202389043000...</td>\n",
       "      <td>POLYGON ((-115.2729049179999 36.20238904300004...</td>\n",
       "    </tr>\n",
       "    <tr>\n",
       "      <th>26</th>\n",
       "      <td>AOI_2_Vegas_img1209</td>\n",
       "      <td>27</td>\n",
       "      <td>POLYGON ((-115.272483312999952 36.202980848000...</td>\n",
       "      <td>POLYGON ((-115.272483313 36.20298084800004, -1...</td>\n",
       "    </tr>\n",
       "    <tr>\n",
       "      <th>27</th>\n",
       "      <td>AOI_2_Vegas_img1209</td>\n",
       "      <td>28</td>\n",
       "      <td>POLYGON ((-115.27251360799994 36.2029865090000...</td>\n",
       "      <td>POLYGON ((-115.2725136079999 36.20298650900003...</td>\n",
       "    </tr>\n",
       "    <tr>\n",
       "      <th>28</th>\n",
       "      <td>AOI_2_Vegas_img1209</td>\n",
       "      <td>29</td>\n",
       "      <td>POLYGON ((-115.272904362999952 36.203041934000...</td>\n",
       "      <td>POLYGON ((-115.272904363 36.20304193400005, -1...</td>\n",
       "    </tr>\n",
       "    <tr>\n",
       "      <th>29</th>\n",
       "      <td>AOI_2_Vegas_img1209</td>\n",
       "      <td>30</td>\n",
       "      <td>POLYGON ((-115.27291712899995 36.2030355950000...</td>\n",
       "      <td>POLYGON ((-115.2729171289999 36.20303559500007...</td>\n",
       "    </tr>\n",
       "    <tr>\n",
       "      <th>...</th>\n",
       "      <td>...</td>\n",
       "      <td>...</td>\n",
       "      <td>...</td>\n",
       "      <td>...</td>\n",
       "    </tr>\n",
       "    <tr>\n",
       "      <th>110012</th>\n",
       "      <td>AOI_2_Vegas_img2734</td>\n",
       "      <td>18</td>\n",
       "      <td>POLYGON ((-115.23211014 36.161075640000035 0,-...</td>\n",
       "      <td>POLYGON ((-115.23211014 36.16107564000004, -11...</td>\n",
       "    </tr>\n",
       "    <tr>\n",
       "      <th>110013</th>\n",
       "      <td>AOI_2_Vegas_img2734</td>\n",
       "      <td>19</td>\n",
       "      <td>POLYGON ((-115.23251845599998 36.1610737360000...</td>\n",
       "      <td>POLYGON ((-115.232518456 36.16107373600005, -1...</td>\n",
       "    </tr>\n",
       "    <tr>\n",
       "      <th>110014</th>\n",
       "      <td>AOI_2_Vegas_img2734</td>\n",
       "      <td>20</td>\n",
       "      <td>POLYGON ((-115.233505717999947 36.161173923000...</td>\n",
       "      <td>POLYGON ((-115.2335057179999 36.16117392300004...</td>\n",
       "    </tr>\n",
       "    <tr>\n",
       "      <th>110015</th>\n",
       "      <td>AOI_2_Vegas_img2734</td>\n",
       "      <td>21</td>\n",
       "      <td>POLYGON ((-115.23265986399997 36.1611664670000...</td>\n",
       "      <td>POLYGON ((-115.232659864 36.16116646700004, -1...</td>\n",
       "    </tr>\n",
       "    <tr>\n",
       "      <th>110016</th>\n",
       "      <td>AOI_2_Vegas_img2734</td>\n",
       "      <td>22</td>\n",
       "      <td>POLYGON ((-115.232247251999979 36.161177213000...</td>\n",
       "      <td>POLYGON ((-115.232247252 36.16117721300003, -1...</td>\n",
       "    </tr>\n",
       "    <tr>\n",
       "      <th>110017</th>\n",
       "      <td>AOI_2_Vegas_img2734</td>\n",
       "      <td>23</td>\n",
       "      <td>POLYGON ((-115.232793202999972 36.161179515000...</td>\n",
       "      <td>POLYGON ((-115.232793203 36.16117951500007, -1...</td>\n",
       "    </tr>\n",
       "    <tr>\n",
       "      <th>110018</th>\n",
       "      <td>AOI_2_Vegas_img2734</td>\n",
       "      <td>24</td>\n",
       "      <td>POLYGON ((-115.232352781999964 36.161235548000...</td>\n",
       "      <td>POLYGON ((-115.232352782 36.16123554800004, -1...</td>\n",
       "    </tr>\n",
       "    <tr>\n",
       "      <th>110019</th>\n",
       "      <td>AOI_2_Vegas_img2734</td>\n",
       "      <td>25</td>\n",
       "      <td>POLYGON ((-115.232052599849581 36.161173759000...</td>\n",
       "      <td>POLYGON ((-115.2320525998496 36.16117375900006...</td>\n",
       "    </tr>\n",
       "    <tr>\n",
       "      <th>110020</th>\n",
       "      <td>AOI_2_Vegas_img2734</td>\n",
       "      <td>26</td>\n",
       "      <td>POLYGON ((-115.232733782999958 36.161280259000...</td>\n",
       "      <td>POLYGON ((-115.232733783 36.16128025900008, -1...</td>\n",
       "    </tr>\n",
       "    <tr>\n",
       "      <th>110021</th>\n",
       "      <td>AOI_2_Vegas_img2734</td>\n",
       "      <td>27</td>\n",
       "      <td>POLYGON ((-115.232150277999949 36.161230367000...</td>\n",
       "      <td>POLYGON ((-115.2321502779999 36.16123036700003...</td>\n",
       "    </tr>\n",
       "    <tr>\n",
       "      <th>110022</th>\n",
       "      <td>AOI_2_Vegas_img2734</td>\n",
       "      <td>28</td>\n",
       "      <td>POLYGON ((-115.232882332999964 36.161364692000...</td>\n",
       "      <td>POLYGON ((-115.232882333 36.16136469200006, -1...</td>\n",
       "    </tr>\n",
       "    <tr>\n",
       "      <th>110023</th>\n",
       "      <td>AOI_2_Vegas_img2734</td>\n",
       "      <td>29</td>\n",
       "      <td>POLYGON ((-115.232506797999974 36.161252435000...</td>\n",
       "      <td>POLYGON ((-115.232506798 36.16125243500005, -1...</td>\n",
       "    </tr>\n",
       "    <tr>\n",
       "      <th>110024</th>\n",
       "      <td>AOI_2_Vegas_img2734</td>\n",
       "      <td>30</td>\n",
       "      <td>POLYGON ((-115.232365140999946 36.161247062000...</td>\n",
       "      <td>POLYGON ((-115.2323651409999 36.16124706200003...</td>\n",
       "    </tr>\n",
       "    <tr>\n",
       "      <th>110025</th>\n",
       "      <td>AOI_2_Vegas_img2734</td>\n",
       "      <td>31</td>\n",
       "      <td>POLYGON ((-115.233691498999974 36.161374570000...</td>\n",
       "      <td>POLYGON ((-115.233691499 36.16137457000008, -1...</td>\n",
       "    </tr>\n",
       "    <tr>\n",
       "      <th>110026</th>\n",
       "      <td>AOI_2_Vegas_img2734</td>\n",
       "      <td>32</td>\n",
       "      <td>POLYGON ((-115.233478536999939 36.161378139000...</td>\n",
       "      <td>POLYGON ((-115.2334785369999 36.16137813900008...</td>\n",
       "    </tr>\n",
       "    <tr>\n",
       "      <th>110027</th>\n",
       "      <td>AOI_2_Vegas_img2734</td>\n",
       "      <td>33</td>\n",
       "      <td>POLYGON ((-115.232052599849581 36.161635380000...</td>\n",
       "      <td>POLYGON ((-115.2320525998496 36.16163538000006...</td>\n",
       "    </tr>\n",
       "    <tr>\n",
       "      <th>110028</th>\n",
       "      <td>AOI_2_Vegas_img2734</td>\n",
       "      <td>34</td>\n",
       "      <td>POLYGON ((-115.23265622699995 36.1616426997962...</td>\n",
       "      <td>POLYGON ((-115.2326562269999 36.16164269979623...</td>\n",
       "    </tr>\n",
       "    <tr>\n",
       "      <th>110029</th>\n",
       "      <td>AOI_2_Vegas_img2734</td>\n",
       "      <td>35</td>\n",
       "      <td>POLYGON ((-115.232244327999979 36.161642699796...</td>\n",
       "      <td>POLYGON ((-115.232244328 36.16164269979623, -1...</td>\n",
       "    </tr>\n",
       "    <tr>\n",
       "      <th>110030</th>\n",
       "      <td>AOI_2_Vegas_img2734</td>\n",
       "      <td>36</td>\n",
       "      <td>POLYGON ((-115.23380181899995 36.1616426997962...</td>\n",
       "      <td>POLYGON ((-115.233801819 36.16164269979623, -1...</td>\n",
       "    </tr>\n",
       "    <tr>\n",
       "      <th>110031</th>\n",
       "      <td>AOI_2_Vegas_img2734</td>\n",
       "      <td>37</td>\n",
       "      <td>POLYGON ((-115.232863246999955 36.161642699796...</td>\n",
       "      <td>POLYGON ((-115.232863247 36.16164269979623, -1...</td>\n",
       "    </tr>\n",
       "    <tr>\n",
       "      <th>110032</th>\n",
       "      <td>AOI_2_Vegas_img2734</td>\n",
       "      <td>38</td>\n",
       "      <td>POLYGON ((-115.232588013999987 36.161639026000...</td>\n",
       "      <td>POLYGON ((-115.232588014 36.16163902600005, -1...</td>\n",
       "    </tr>\n",
       "    <tr>\n",
       "      <th>110033</th>\n",
       "      <td>AOI_2_Vegas_img2734</td>\n",
       "      <td>39</td>\n",
       "      <td>POLYGON ((-115.2333916 36.161642699796225 0,-1...</td>\n",
       "      <td>POLYGON ((-115.2333916 36.16164269979623, -115...</td>\n",
       "    </tr>\n",
       "    <tr>\n",
       "      <th>110034</th>\n",
       "      <td>AOI_2_Vegas_img4107</td>\n",
       "      <td>1</td>\n",
       "      <td>POLYGON ((-115.203907292879578 36.210782699894...</td>\n",
       "      <td>POLYGON ((-115.2039072928796 36.21078269989419...</td>\n",
       "    </tr>\n",
       "    <tr>\n",
       "      <th>110035</th>\n",
       "      <td>AOI_2_Vegas_img4107</td>\n",
       "      <td>2</td>\n",
       "      <td>POLYGON ((-115.203953351999985 36.210970921000...</td>\n",
       "      <td>POLYGON ((-115.203953352 36.21097092100007, -1...</td>\n",
       "    </tr>\n",
       "    <tr>\n",
       "      <th>110036</th>\n",
       "      <td>AOI_2_Vegas_img4107</td>\n",
       "      <td>3</td>\n",
       "      <td>POLYGON ((-115.202581786872727 36.210782699894...</td>\n",
       "      <td>POLYGON ((-115.2025817868727 36.21078269989419...</td>\n",
       "    </tr>\n",
       "    <tr>\n",
       "      <th>110037</th>\n",
       "      <td>AOI_2_Vegas_img4107</td>\n",
       "      <td>4</td>\n",
       "      <td>POLYGON ((-115.202217599790103 36.211160967734...</td>\n",
       "      <td>POLYGON ((-115.2022175997901 36.2111609677345,...</td>\n",
       "    </tr>\n",
       "    <tr>\n",
       "      <th>110038</th>\n",
       "      <td>AOI_2_Vegas_img4107</td>\n",
       "      <td>5</td>\n",
       "      <td>POLYGON ((-115.202217599790103 36.211566416926...</td>\n",
       "      <td>POLYGON ((-115.2022175997901 36.21156641692662...</td>\n",
       "    </tr>\n",
       "    <tr>\n",
       "      <th>110039</th>\n",
       "      <td>AOI_2_Vegas_img4107</td>\n",
       "      <td>6</td>\n",
       "      <td>POLYGON ((-115.202245993999952 36.212132067000...</td>\n",
       "      <td>POLYGON ((-115.202245994 36.21213206700003, -1...</td>\n",
       "    </tr>\n",
       "    <tr>\n",
       "      <th>110040</th>\n",
       "      <td>AOI_2_Vegas_img4107</td>\n",
       "      <td>7</td>\n",
       "      <td>POLYGON ((-115.203091813999947 36.212135405000...</td>\n",
       "      <td>POLYGON ((-115.2030918139999 36.21213540500003...</td>\n",
       "    </tr>\n",
       "    <tr>\n",
       "      <th>110041</th>\n",
       "      <td>AOI_2_Vegas_img2131</td>\n",
       "      <td>1</td>\n",
       "      <td>POLYGON ((-115.246542082999952 36.175687279000...</td>\n",
       "      <td>POLYGON ((-115.246542083 36.17568727900004, -1...</td>\n",
       "    </tr>\n",
       "  </tbody>\n",
       "</table>\n",
       "<p>109807 rows × 4 columns</p>\n",
       "</div>"
      ],
      "text/plain": [
       "                    ImageId  BuildingId  \\\n",
       "0       AOI_2_Vegas_img1209           1   \n",
       "1       AOI_2_Vegas_img1209           2   \n",
       "2       AOI_2_Vegas_img1209           3   \n",
       "3       AOI_2_Vegas_img1209           4   \n",
       "4       AOI_2_Vegas_img1209           5   \n",
       "5       AOI_2_Vegas_img1209           6   \n",
       "6       AOI_2_Vegas_img1209           7   \n",
       "7       AOI_2_Vegas_img1209           8   \n",
       "8       AOI_2_Vegas_img1209           9   \n",
       "9       AOI_2_Vegas_img1209          10   \n",
       "10      AOI_2_Vegas_img1209          11   \n",
       "11      AOI_2_Vegas_img1209          12   \n",
       "12      AOI_2_Vegas_img1209          13   \n",
       "13      AOI_2_Vegas_img1209          14   \n",
       "14      AOI_2_Vegas_img1209          15   \n",
       "15      AOI_2_Vegas_img1209          16   \n",
       "16      AOI_2_Vegas_img1209          17   \n",
       "17      AOI_2_Vegas_img1209          18   \n",
       "18      AOI_2_Vegas_img1209          19   \n",
       "19      AOI_2_Vegas_img1209          20   \n",
       "20      AOI_2_Vegas_img1209          21   \n",
       "21      AOI_2_Vegas_img1209          22   \n",
       "22      AOI_2_Vegas_img1209          23   \n",
       "23      AOI_2_Vegas_img1209          24   \n",
       "24      AOI_2_Vegas_img1209          25   \n",
       "25      AOI_2_Vegas_img1209          26   \n",
       "26      AOI_2_Vegas_img1209          27   \n",
       "27      AOI_2_Vegas_img1209          28   \n",
       "28      AOI_2_Vegas_img1209          29   \n",
       "29      AOI_2_Vegas_img1209          30   \n",
       "...                     ...         ...   \n",
       "110012  AOI_2_Vegas_img2734          18   \n",
       "110013  AOI_2_Vegas_img2734          19   \n",
       "110014  AOI_2_Vegas_img2734          20   \n",
       "110015  AOI_2_Vegas_img2734          21   \n",
       "110016  AOI_2_Vegas_img2734          22   \n",
       "110017  AOI_2_Vegas_img2734          23   \n",
       "110018  AOI_2_Vegas_img2734          24   \n",
       "110019  AOI_2_Vegas_img2734          25   \n",
       "110020  AOI_2_Vegas_img2734          26   \n",
       "110021  AOI_2_Vegas_img2734          27   \n",
       "110022  AOI_2_Vegas_img2734          28   \n",
       "110023  AOI_2_Vegas_img2734          29   \n",
       "110024  AOI_2_Vegas_img2734          30   \n",
       "110025  AOI_2_Vegas_img2734          31   \n",
       "110026  AOI_2_Vegas_img2734          32   \n",
       "110027  AOI_2_Vegas_img2734          33   \n",
       "110028  AOI_2_Vegas_img2734          34   \n",
       "110029  AOI_2_Vegas_img2734          35   \n",
       "110030  AOI_2_Vegas_img2734          36   \n",
       "110031  AOI_2_Vegas_img2734          37   \n",
       "110032  AOI_2_Vegas_img2734          38   \n",
       "110033  AOI_2_Vegas_img2734          39   \n",
       "110034  AOI_2_Vegas_img4107           1   \n",
       "110035  AOI_2_Vegas_img4107           2   \n",
       "110036  AOI_2_Vegas_img4107           3   \n",
       "110037  AOI_2_Vegas_img4107           4   \n",
       "110038  AOI_2_Vegas_img4107           5   \n",
       "110039  AOI_2_Vegas_img4107           6   \n",
       "110040  AOI_2_Vegas_img4107           7   \n",
       "110041  AOI_2_Vegas_img2131           1   \n",
       "\n",
       "                                           PolygonWKT_Geo  \\\n",
       "0       POLYGON ((-115.27398708 36.20208033800003 0,-1...   \n",
       "1       POLYGON ((-115.273575016999985 36.202021143000...   \n",
       "2       POLYGON ((-115.273766779991007 36.202007699876...   \n",
       "3       POLYGON ((-115.273789578999981 36.202045452000...   \n",
       "4       POLYGON ((-115.273558615661273 36.202007699876...   \n",
       "5       POLYGON ((-115.27417259993355 36.2025144913411...   \n",
       "6       POLYGON ((-115.273968876999959 36.202492435000...   \n",
       "7       POLYGON ((-115.272754125999938 36.202167611000...   \n",
       "8       POLYGON ((-115.273366127999964 36.202400240000...   \n",
       "9       POLYGON ((-115.273156992999986 36.202357965000...   \n",
       "10      POLYGON ((-115.272417599930051 36.202128373978...   \n",
       "11      POLYGON ((-115.27250087799996 36.2022827830000...   \n",
       "12      POLYGON ((-115.273619250999957 36.202296232000...   \n",
       "13      POLYGON ((-115.273118964999981 36.202360842000...   \n",
       "14      POLYGON ((-115.272417599930051 36.202386386225...   \n",
       "15      POLYGON ((-115.272417599930051 36.202415964669...   \n",
       "16      POLYGON ((-115.272527605999983 36.202566213000...   \n",
       "17      POLYGON ((-115.272730483999965 36.202583723000...   \n",
       "18      POLYGON ((-115.272927632999938 36.202627937000...   \n",
       "19      POLYGON ((-115.273138605999975 36.202612959000...   \n",
       "20      POLYGON ((-115.273336440999969 36.202689310000...   \n",
       "21      POLYGON ((-115.273577818999968 36.202701341000...   \n",
       "22      POLYGON ((-115.273744288999978 36.202748019000...   \n",
       "23      POLYGON ((-115.273976393999988 36.202633690000...   \n",
       "24      POLYGON ((-115.27417259993355 36.2028192971655...   \n",
       "25      POLYGON ((-115.272904917999938 36.202389043000...   \n",
       "26      POLYGON ((-115.272483312999952 36.202980848000...   \n",
       "27      POLYGON ((-115.27251360799994 36.2029865090000...   \n",
       "28      POLYGON ((-115.272904362999952 36.203041934000...   \n",
       "29      POLYGON ((-115.27291712899995 36.2030355950000...   \n",
       "...                                                   ...   \n",
       "110012  POLYGON ((-115.23211014 36.161075640000035 0,-...   \n",
       "110013  POLYGON ((-115.23251845599998 36.1610737360000...   \n",
       "110014  POLYGON ((-115.233505717999947 36.161173923000...   \n",
       "110015  POLYGON ((-115.23265986399997 36.1611664670000...   \n",
       "110016  POLYGON ((-115.232247251999979 36.161177213000...   \n",
       "110017  POLYGON ((-115.232793202999972 36.161179515000...   \n",
       "110018  POLYGON ((-115.232352781999964 36.161235548000...   \n",
       "110019  POLYGON ((-115.232052599849581 36.161173759000...   \n",
       "110020  POLYGON ((-115.232733782999958 36.161280259000...   \n",
       "110021  POLYGON ((-115.232150277999949 36.161230367000...   \n",
       "110022  POLYGON ((-115.232882332999964 36.161364692000...   \n",
       "110023  POLYGON ((-115.232506797999974 36.161252435000...   \n",
       "110024  POLYGON ((-115.232365140999946 36.161247062000...   \n",
       "110025  POLYGON ((-115.233691498999974 36.161374570000...   \n",
       "110026  POLYGON ((-115.233478536999939 36.161378139000...   \n",
       "110027  POLYGON ((-115.232052599849581 36.161635380000...   \n",
       "110028  POLYGON ((-115.23265622699995 36.1616426997962...   \n",
       "110029  POLYGON ((-115.232244327999979 36.161642699796...   \n",
       "110030  POLYGON ((-115.23380181899995 36.1616426997962...   \n",
       "110031  POLYGON ((-115.232863246999955 36.161642699796...   \n",
       "110032  POLYGON ((-115.232588013999987 36.161639026000...   \n",
       "110033  POLYGON ((-115.2333916 36.161642699796225 0,-1...   \n",
       "110034  POLYGON ((-115.203907292879578 36.210782699894...   \n",
       "110035  POLYGON ((-115.203953351999985 36.210970921000...   \n",
       "110036  POLYGON ((-115.202581786872727 36.210782699894...   \n",
       "110037  POLYGON ((-115.202217599790103 36.211160967734...   \n",
       "110038  POLYGON ((-115.202217599790103 36.211566416926...   \n",
       "110039  POLYGON ((-115.202245993999952 36.212132067000...   \n",
       "110040  POLYGON ((-115.203091813999947 36.212135405000...   \n",
       "110041  POLYGON ((-115.246542082999952 36.175687279000...   \n",
       "\n",
       "                                                 geometry  \n",
       "0       POLYGON ((-115.27398708 36.20208033800003, -11...  \n",
       "1       POLYGON ((-115.273575017 36.20202114300002, -1...  \n",
       "2       POLYGON ((-115.273766779991 36.2020076998767, ...  \n",
       "3       POLYGON ((-115.273789579 36.20204545200005, -1...  \n",
       "4       POLYGON ((-115.2735586156613 36.2020076998767,...  \n",
       "5       POLYGON ((-115.2741725999336 36.20251449134115...  \n",
       "6       POLYGON ((-115.273968877 36.20249243500007, -1...  \n",
       "7       POLYGON ((-115.2727541259999 36.20216761100005...  \n",
       "8       POLYGON ((-115.273366128 36.20240024000003, -1...  \n",
       "9       POLYGON ((-115.273156993 36.20235796500003, -1...  \n",
       "10      POLYGON ((-115.2724175999301 36.20212837397887...  \n",
       "11      POLYGON ((-115.272500878 36.20228278300004, -1...  \n",
       "12      POLYGON ((-115.273619251 36.20229623200004, -1...  \n",
       "13      POLYGON ((-115.273118965 36.20236084200008, -1...  \n",
       "14      POLYGON ((-115.2724175999301 36.2023863862258,...  \n",
       "15      POLYGON ((-115.2724175999301 36.20241596466997...  \n",
       "16      POLYGON ((-115.272527606 36.20256621300007, -1...  \n",
       "17      POLYGON ((-115.272730484 36.20258372300003, -1...  \n",
       "18      POLYGON ((-115.2729276329999 36.20262793700005...  \n",
       "19      POLYGON ((-115.273138606 36.20261295900008, -1...  \n",
       "20      POLYGON ((-115.273336441 36.20268931000004, -1...  \n",
       "21      POLYGON ((-115.273577819 36.20270134100008, -1...  \n",
       "22      POLYGON ((-115.273744289 36.20274801900007, -1...  \n",
       "23      POLYGON ((-115.273976394 36.20263369000003, -1...  \n",
       "24      POLYGON ((-115.2741725999336 36.20281929716552...  \n",
       "25      POLYGON ((-115.2729049179999 36.20238904300004...  \n",
       "26      POLYGON ((-115.272483313 36.20298084800004, -1...  \n",
       "27      POLYGON ((-115.2725136079999 36.20298650900003...  \n",
       "28      POLYGON ((-115.272904363 36.20304193400005, -1...  \n",
       "29      POLYGON ((-115.2729171289999 36.20303559500007...  \n",
       "...                                                   ...  \n",
       "110012  POLYGON ((-115.23211014 36.16107564000004, -11...  \n",
       "110013  POLYGON ((-115.232518456 36.16107373600005, -1...  \n",
       "110014  POLYGON ((-115.2335057179999 36.16117392300004...  \n",
       "110015  POLYGON ((-115.232659864 36.16116646700004, -1...  \n",
       "110016  POLYGON ((-115.232247252 36.16117721300003, -1...  \n",
       "110017  POLYGON ((-115.232793203 36.16117951500007, -1...  \n",
       "110018  POLYGON ((-115.232352782 36.16123554800004, -1...  \n",
       "110019  POLYGON ((-115.2320525998496 36.16117375900006...  \n",
       "110020  POLYGON ((-115.232733783 36.16128025900008, -1...  \n",
       "110021  POLYGON ((-115.2321502779999 36.16123036700003...  \n",
       "110022  POLYGON ((-115.232882333 36.16136469200006, -1...  \n",
       "110023  POLYGON ((-115.232506798 36.16125243500005, -1...  \n",
       "110024  POLYGON ((-115.2323651409999 36.16124706200003...  \n",
       "110025  POLYGON ((-115.233691499 36.16137457000008, -1...  \n",
       "110026  POLYGON ((-115.2334785369999 36.16137813900008...  \n",
       "110027  POLYGON ((-115.2320525998496 36.16163538000006...  \n",
       "110028  POLYGON ((-115.2326562269999 36.16164269979623...  \n",
       "110029  POLYGON ((-115.232244328 36.16164269979623, -1...  \n",
       "110030  POLYGON ((-115.233801819 36.16164269979623, -1...  \n",
       "110031  POLYGON ((-115.232863247 36.16164269979623, -1...  \n",
       "110032  POLYGON ((-115.232588014 36.16163902600005, -1...  \n",
       "110033  POLYGON ((-115.2333916 36.16164269979623, -115...  \n",
       "110034  POLYGON ((-115.2039072928796 36.21078269989419...  \n",
       "110035  POLYGON ((-115.203953352 36.21097092100007, -1...  \n",
       "110036  POLYGON ((-115.2025817868727 36.21078269989419...  \n",
       "110037  POLYGON ((-115.2022175997901 36.2111609677345,...  \n",
       "110038  POLYGON ((-115.2022175997901 36.21156641692662...  \n",
       "110039  POLYGON ((-115.202245994 36.21213206700003, -1...  \n",
       "110040  POLYGON ((-115.2030918139999 36.21213540500003...  \n",
       "110041  POLYGON ((-115.246542083 36.17568727900004, -1...  \n",
       "\n",
       "[109807 rows x 4 columns]"
      ]
     },
     "execution_count": 11,
     "metadata": {},
     "output_type": "execute_result"
    }
   ],
   "source": [
    "geo_df_buildings"
   ]
  },
  {
   "cell_type": "markdown",
   "metadata": {},
   "source": [
    "Check that the geomteries are in the correct format:"
   ]
  },
  {
   "cell_type": "code",
   "execution_count": 12,
   "metadata": {
    "collapsed": false
   },
   "outputs": [
    {
     "data": {
      "text/plain": [
       "shapely.geometry.polygon.Polygon"
      ]
     },
     "execution_count": 12,
     "metadata": {},
     "output_type": "execute_result"
    }
   ],
   "source": [
    "type(geo_df_buildings.geometry[1000])"
   ]
  },
  {
   "cell_type": "code",
   "execution_count": 13,
   "metadata": {
    "collapsed": false
   },
   "outputs": [
    {
     "data": {
      "image/svg+xml": [
       "<svg xmlns=\"http://www.w3.org/2000/svg\" xmlns:xlink=\"http://www.w3.org/1999/xlink\" width=\"100.0\" height=\"100.0\" viewBox=\"-115.226034155 36.1673743808 4.87393200217e-05 2.78003199838e-05\" preserveAspectRatio=\"xMinYMin meet\"><g transform=\"matrix(1,0,0,-1,0,72.334776562)\"><path fill-rule=\"evenodd\" fill=\"#66cc99\" stroke=\"#555555\" stroke-width=\"9.74786400434e-07\" opacity=\"0.6\" d=\"M -115.225987221,36.167399224 L -115.225988142,36.167376186 L -115.22603235,36.167377337 L -115.226031429,36.167400376 L -115.225987221,36.167399224 z\" /></g></svg>"
      ],
      "text/plain": [
       "<shapely.geometry.polygon.Polygon at 0x7f3054e6fe50>"
      ]
     },
     "execution_count": 13,
     "metadata": {},
     "output_type": "execute_result"
    }
   ],
   "source": [
    "geo_df_buildings.geometry[1000]"
   ]
  },
  {
   "cell_type": "code",
   "execution_count": 14,
   "metadata": {
    "collapsed": false
   },
   "outputs": [
    {
     "data": {
      "text/plain": [
       "109807"
      ]
     },
     "execution_count": 14,
     "metadata": {},
     "output_type": "execute_result"
    }
   ],
   "source": [
    "len(geo_df_buildings)"
   ]
  },
  {
   "cell_type": "code",
   "execution_count": 17,
   "metadata": {
    "collapsed": true
   },
   "outputs": [],
   "source": [
    "geo_df_buildings_f =geo_df_buildings.drop('PolygonWKT_Geo', axis = 1)"
   ]
  },
  {
   "cell_type": "code",
   "execution_count": 18,
   "metadata": {
    "collapsed": false
   },
   "outputs": [
    {
     "data": {
      "text/html": [
       "<div>\n",
       "<style>\n",
       "    .dataframe thead tr:only-child th {\n",
       "        text-align: right;\n",
       "    }\n",
       "\n",
       "    .dataframe thead th {\n",
       "        text-align: left;\n",
       "    }\n",
       "\n",
       "    .dataframe tbody tr th {\n",
       "        vertical-align: top;\n",
       "    }\n",
       "</style>\n",
       "<table border=\"1\" class=\"dataframe\">\n",
       "  <thead>\n",
       "    <tr style=\"text-align: right;\">\n",
       "      <th></th>\n",
       "      <th>ImageId</th>\n",
       "      <th>BuildingId</th>\n",
       "      <th>geometry</th>\n",
       "    </tr>\n",
       "  </thead>\n",
       "  <tbody>\n",
       "    <tr>\n",
       "      <th>0</th>\n",
       "      <td>AOI_2_Vegas_img1209</td>\n",
       "      <td>1</td>\n",
       "      <td>POLYGON ((-115.27398708 36.20208033800003, -11...</td>\n",
       "    </tr>\n",
       "    <tr>\n",
       "      <th>1</th>\n",
       "      <td>AOI_2_Vegas_img1209</td>\n",
       "      <td>2</td>\n",
       "      <td>POLYGON ((-115.273575017 36.20202114300002, -1...</td>\n",
       "    </tr>\n",
       "    <tr>\n",
       "      <th>2</th>\n",
       "      <td>AOI_2_Vegas_img1209</td>\n",
       "      <td>3</td>\n",
       "      <td>POLYGON ((-115.273766779991 36.2020076998767, ...</td>\n",
       "    </tr>\n",
       "    <tr>\n",
       "      <th>3</th>\n",
       "      <td>AOI_2_Vegas_img1209</td>\n",
       "      <td>4</td>\n",
       "      <td>POLYGON ((-115.273789579 36.20204545200005, -1...</td>\n",
       "    </tr>\n",
       "    <tr>\n",
       "      <th>4</th>\n",
       "      <td>AOI_2_Vegas_img1209</td>\n",
       "      <td>5</td>\n",
       "      <td>POLYGON ((-115.2735586156613 36.2020076998767,...</td>\n",
       "    </tr>\n",
       "  </tbody>\n",
       "</table>\n",
       "</div>"
      ],
      "text/plain": [
       "               ImageId  BuildingId  \\\n",
       "0  AOI_2_Vegas_img1209           1   \n",
       "1  AOI_2_Vegas_img1209           2   \n",
       "2  AOI_2_Vegas_img1209           3   \n",
       "3  AOI_2_Vegas_img1209           4   \n",
       "4  AOI_2_Vegas_img1209           5   \n",
       "\n",
       "                                            geometry  \n",
       "0  POLYGON ((-115.27398708 36.20208033800003, -11...  \n",
       "1  POLYGON ((-115.273575017 36.20202114300002, -1...  \n",
       "2  POLYGON ((-115.273766779991 36.2020076998767, ...  \n",
       "3  POLYGON ((-115.273789579 36.20204545200005, -1...  \n",
       "4  POLYGON ((-115.2735586156613 36.2020076998767,...  "
      ]
     },
     "execution_count": 18,
     "metadata": {},
     "output_type": "execute_result"
    }
   ],
   "source": [
    "geo_df_buildings_f.head()"
   ]
  },
  {
   "cell_type": "code",
   "execution_count": 19,
   "metadata": {
    "collapsed": false
   },
   "outputs": [
    {
     "data": {
      "text/plain": [
       "u'/home/vaston/Metis_Project_5/Las_Vegas_Pictures/AOI_2_Vegas_Train'"
      ]
     },
     "execution_count": 19,
     "metadata": {},
     "output_type": "execute_result"
    }
   ],
   "source": [
    "pwd"
   ]
  },
  {
   "cell_type": "markdown",
   "metadata": {},
   "source": [
    "Make geojson file with building footprints:"
   ]
  },
  {
   "cell_type": "code",
   "execution_count": 21,
   "metadata": {
    "collapsed": true
   },
   "outputs": [],
   "source": [
    "output_file_name = 'building_fooprints_f.geojson'\n",
    "\n",
    "# Make sure the file doesnt exist (the program will crash if it does)\n",
    "if os.path.exists(output_file_name):\n",
    "    os.remove(output_file_name)\n",
    "\n",
    "# Save the file as a geojson\n",
    "geo_df_buildings_f.to_file(output_file_name, driver='GeoJSON')"
   ]
  },
  {
   "cell_type": "markdown",
   "metadata": {},
   "source": [
    "Check what they look like on the map:"
   ]
  },
  {
   "cell_type": "code",
   "execution_count": 23,
   "metadata": {
    "collapsed": true
   },
   "outputs": [],
   "source": [
    "geo_df_buildings_plot = geo_df_buildings_f.copy()"
   ]
  },
  {
   "cell_type": "code",
   "execution_count": 29,
   "metadata": {
    "collapsed": true
   },
   "outputs": [],
   "source": [
    "geo_df_buildings_plot_t = geo_df_buildings_plot.head(10000)"
   ]
  },
  {
   "cell_type": "code",
   "execution_count": 30,
   "metadata": {
    "collapsed": false
   },
   "outputs": [
    {
     "data": {
      "text/plain": [
       "<matplotlib.axes._subplots.AxesSubplot at 0x7f8046b4e310>"
      ]
     },
     "execution_count": 30,
     "metadata": {},
     "output_type": "execute_result"
    },
    {
     "data": {
      "image/png": "[encoded data removed]",
      "text/plain": [
       "<matplotlib.figure.Figure at 0x7f80abc23610>"
      ]
     },
     "metadata": {},
     "output_type": "display_data"
    }
   ],
   "source": [
    "geo_df_buildings_plot_t.plot()"
   ]
  },
  {
   "cell_type": "code",
   "execution_count": 84,
   "metadata": {
    "collapsed": false
   },
   "outputs": [
    {
     "ename": "AssertionError",
     "evalue": "",
     "output_type": "error",
     "traceback": [
      "\u001b[0;31m---------------------------------------------------------------------------\u001b[0m",
      "\u001b[0;31mAssertionError\u001b[0m                            Traceback (most recent call last)",
      "\u001b[0;32m<ipython-input-84-62136edb8543>\u001b[0m in \u001b[0;36m<module>\u001b[0;34m()\u001b[0m\n\u001b[1;32m      1\u001b[0m \u001b[0;32mfrom\u001b[0m \u001b[0mshapely\u001b[0m\u001b[0;34m.\u001b[0m\u001b[0mgeometry\u001b[0m \u001b[0;32mimport\u001b[0m \u001b[0mPolygon\u001b[0m\u001b[0;34m\u001b[0m\u001b[0m\n\u001b[1;32m      2\u001b[0m \u001b[0;31m#df_buildings.set_geometry(df_buildings.geometry.apply(shapely.geometry.Polygon), inplace=True)\u001b[0m\u001b[0;34m\u001b[0m\u001b[0;34m\u001b[0m\u001b[0m\n\u001b[0;32m----> 3\u001b[0;31m \u001b[0mdf_buildings\u001b[0m\u001b[0;34m.\u001b[0m\u001b[0mgeometry\u001b[0m \u001b[0;34m=\u001b[0m \u001b[0mPolygon\u001b[0m\u001b[0;34m(\u001b[0m\u001b[0mdf_buildings\u001b[0m\u001b[0;34m.\u001b[0m\u001b[0mgeometry\u001b[0m\u001b[0;34m)\u001b[0m\u001b[0;34m\u001b[0m\u001b[0m\n\u001b[0m\u001b[1;32m      4\u001b[0m \u001b[0;31m#water = osm_nature[osm_nature.natural == 'water'].unary_union\u001b[0m\u001b[0;34m\u001b[0m\u001b[0;34m\u001b[0m\u001b[0m\n",
      "\u001b[0;32m/home/ubuntu/anaconda2/envs/scienv2/lib/python2.7/site-packages/shapely/geometry/polygon.pyc\u001b[0m in \u001b[0;36m__init__\u001b[0;34m(self, shell, holes)\u001b[0m\n\u001b[1;32m    227\u001b[0m \u001b[0;34m\u001b[0m\u001b[0m\n\u001b[1;32m    228\u001b[0m         \u001b[0;32mif\u001b[0m \u001b[0mshell\u001b[0m \u001b[0;32mis\u001b[0m \u001b[0;32mnot\u001b[0m \u001b[0mNone\u001b[0m\u001b[0;34m:\u001b[0m\u001b[0;34m\u001b[0m\u001b[0m\n\u001b[0;32m--> 229\u001b[0;31m             \u001b[0mself\u001b[0m\u001b[0;34m.\u001b[0m\u001b[0m_geom\u001b[0m\u001b[0;34m,\u001b[0m \u001b[0mself\u001b[0m\u001b[0;34m.\u001b[0m\u001b[0m_ndim\u001b[0m \u001b[0;34m=\u001b[0m \u001b[0mgeos_polygon_from_py\u001b[0m\u001b[0;34m(\u001b[0m\u001b[0mshell\u001b[0m\u001b[0;34m,\u001b[0m \u001b[0mholes\u001b[0m\u001b[0;34m)\u001b[0m\u001b[0;34m\u001b[0m\u001b[0m\n\u001b[0m\u001b[1;32m    230\u001b[0m \u001b[0;34m\u001b[0m\u001b[0m\n\u001b[1;32m    231\u001b[0m     \u001b[0;34m@\u001b[0m\u001b[0mproperty\u001b[0m\u001b[0;34m\u001b[0m\u001b[0m\n",
      "\u001b[0;32m/home/ubuntu/anaconda2/envs/scienv2/lib/python2.7/site-packages/shapely/geometry/polygon.pyc\u001b[0m in \u001b[0;36mgeos_polygon_from_py\u001b[0;34m(shell, holes)\u001b[0m\n\u001b[1;32m    506\u001b[0m \u001b[0;34m\u001b[0m\u001b[0m\n\u001b[1;32m    507\u001b[0m     \u001b[0;32mif\u001b[0m \u001b[0mshell\u001b[0m \u001b[0;32mis\u001b[0m \u001b[0;32mnot\u001b[0m \u001b[0mNone\u001b[0m\u001b[0;34m:\u001b[0m\u001b[0;34m\u001b[0m\u001b[0m\n\u001b[0;32m--> 508\u001b[0;31m         \u001b[0mgeos_shell\u001b[0m\u001b[0;34m,\u001b[0m \u001b[0mndim\u001b[0m \u001b[0;34m=\u001b[0m \u001b[0mgeos_linearring_from_py\u001b[0m\u001b[0;34m(\u001b[0m\u001b[0mshell\u001b[0m\u001b[0;34m)\u001b[0m\u001b[0;34m\u001b[0m\u001b[0m\n\u001b[0m\u001b[1;32m    509\u001b[0m         \u001b[0;32mif\u001b[0m \u001b[0mholes\u001b[0m \u001b[0;32mis\u001b[0m \u001b[0;32mnot\u001b[0m \u001b[0mNone\u001b[0m \u001b[0;32mand\u001b[0m \u001b[0mlen\u001b[0m\u001b[0;34m(\u001b[0m\u001b[0mholes\u001b[0m\u001b[0;34m)\u001b[0m \u001b[0;34m>\u001b[0m \u001b[0;36m0\u001b[0m\u001b[0;34m:\u001b[0m\u001b[0;34m\u001b[0m\u001b[0m\n\u001b[1;32m    510\u001b[0m             \u001b[0mob\u001b[0m \u001b[0;34m=\u001b[0m \u001b[0mholes\u001b[0m\u001b[0;34m\u001b[0m\u001b[0m\n",
      "\u001b[0;32m/home/ubuntu/anaconda2/envs/scienv2/lib/python2.7/site-packages/shapely/geometry/polygon.pyc\u001b[0m in \u001b[0;36mgeos_linearring_from_py\u001b[0;34m(ob, update_geom, update_ndim)\u001b[0m\n\u001b[1;32m    452\u001b[0m             raise ValueError(\n\u001b[1;32m    453\u001b[0m                 \"A LinearRing must have at least 3 coordinate tuples\")\n\u001b[0;32m--> 454\u001b[0;31m         \u001b[0;32massert\u001b[0m \u001b[0;34m(\u001b[0m\u001b[0mn\u001b[0m \u001b[0;34m==\u001b[0m \u001b[0;36m2\u001b[0m \u001b[0;32mor\u001b[0m \u001b[0mn\u001b[0m \u001b[0;34m==\u001b[0m \u001b[0;36m3\u001b[0m\u001b[0;34m)\u001b[0m\u001b[0;34m\u001b[0m\u001b[0m\n\u001b[0m\u001b[1;32m    455\u001b[0m \u001b[0;34m\u001b[0m\u001b[0m\n\u001b[1;32m    456\u001b[0m         \u001b[0;31m# Add closing coordinates if not provided\u001b[0m\u001b[0;34m\u001b[0m\u001b[0;34m\u001b[0m\u001b[0m\n",
      "\u001b[0;31mAssertionError\u001b[0m: "
     ]
    }
   ],
   "source": [
    "from shapely.geometry import Polygon\n",
    "df_buildings.geometry = Polygon(df_buildings.geometry)\n"
   ]
  },
  {
   "cell_type": "markdown",
   "metadata": {},
   "source": [
    "At some point I made this a geopandas df:"
   ]
  },
  {
   "cell_type": "code",
   "execution_count": 11,
   "metadata": {
    "collapsed": true
   },
   "outputs": [],
   "source": [
    "from geopandas import GeoDataFrame\n",
    "from shapely.geometry import Point\n",
    "\n",
    "geo_df_buildings = GeoDataFrame(df_buildings)"
   ]
  },
  {
   "cell_type": "markdown",
   "metadata": {},
   "source": [
    "And tested out how to get geometries from the text in the geometry column:"
   ]
  },
  {
   "cell_type": "code",
   "execution_count": 15,
   "metadata": {
    "collapsed": false
   },
   "outputs": [
    {
     "data": {
      "text/plain": [
       "str"
      ]
     },
     "execution_count": 15,
     "metadata": {},
     "output_type": "execute_result"
    }
   ],
   "source": [
    "type(geo_df_buildings.geometry[1])"
   ]
  },
  {
   "cell_type": "code",
   "execution_count": 13,
   "metadata": {
    "collapsed": false
   },
   "outputs": [
    {
     "data": {
      "text/html": [
       "<div>\n",
       "<style>\n",
       "    .dataframe thead tr:only-child th {\n",
       "        text-align: right;\n",
       "    }\n",
       "\n",
       "    .dataframe thead th {\n",
       "        text-align: left;\n",
       "    }\n",
       "\n",
       "    .dataframe tbody tr th {\n",
       "        vertical-align: top;\n",
       "    }\n",
       "</style>\n",
       "<table border=\"1\" class=\"dataframe\">\n",
       "  <thead>\n",
       "    <tr style=\"text-align: right;\">\n",
       "      <th></th>\n",
       "      <th>ImageId</th>\n",
       "      <th>BuildingId</th>\n",
       "      <th>geometry</th>\n",
       "    </tr>\n",
       "  </thead>\n",
       "  <tbody>\n",
       "    <tr>\n",
       "      <th>0</th>\n",
       "      <td>AOI_2_Vegas_img1209</td>\n",
       "      <td>1</td>\n",
       "      <td>POLYGON ((-115.27398708 36.20208033800003 0,-1...</td>\n",
       "    </tr>\n",
       "    <tr>\n",
       "      <th>1</th>\n",
       "      <td>AOI_2_Vegas_img1209</td>\n",
       "      <td>2</td>\n",
       "      <td>POLYGON ((-115.273575016999985 36.202021143000...</td>\n",
       "    </tr>\n",
       "    <tr>\n",
       "      <th>2</th>\n",
       "      <td>AOI_2_Vegas_img1209</td>\n",
       "      <td>3</td>\n",
       "      <td>POLYGON ((-115.273766779991007 36.202007699876...</td>\n",
       "    </tr>\n",
       "    <tr>\n",
       "      <th>3</th>\n",
       "      <td>AOI_2_Vegas_img1209</td>\n",
       "      <td>4</td>\n",
       "      <td>POLYGON ((-115.273789578999981 36.202045452000...</td>\n",
       "    </tr>\n",
       "    <tr>\n",
       "      <th>4</th>\n",
       "      <td>AOI_2_Vegas_img1209</td>\n",
       "      <td>5</td>\n",
       "      <td>POLYGON ((-115.273558615661273 36.202007699876...</td>\n",
       "    </tr>\n",
       "  </tbody>\n",
       "</table>\n",
       "</div>"
      ],
      "text/plain": [
       "               ImageId  BuildingId  \\\n",
       "0  AOI_2_Vegas_img1209           1   \n",
       "1  AOI_2_Vegas_img1209           2   \n",
       "2  AOI_2_Vegas_img1209           3   \n",
       "3  AOI_2_Vegas_img1209           4   \n",
       "4  AOI_2_Vegas_img1209           5   \n",
       "\n",
       "                                            geometry  \n",
       "0  POLYGON ((-115.27398708 36.20208033800003 0,-1...  \n",
       "1  POLYGON ((-115.273575016999985 36.202021143000...  \n",
       "2  POLYGON ((-115.273766779991007 36.202007699876...  \n",
       "3  POLYGON ((-115.273789578999981 36.202045452000...  \n",
       "4  POLYGON ((-115.273558615661273 36.202007699876...  "
      ]
     },
     "execution_count": 13,
     "metadata": {},
     "output_type": "execute_result"
    }
   ],
   "source": [
    "geo_df_buildings.head()"
   ]
  },
  {
   "cell_type": "code",
   "execution_count": 18,
   "metadata": {
    "collapsed": false
   },
   "outputs": [
    {
     "data": {
      "text/plain": [
       "'POLYGON ((-115.273575016999985 36.202021143000024 0,-115.27357773558559 36.202007699876695 0,-115.273714799747154 36.202007699876695 0,-115.273711846999959 36.202022301000056 0,-115.27367452499999 36.202017387000069 0,-115.273671203999982 36.202033808000067 0,-115.273575016999985 36.202021143000024 0))'"
      ]
     },
     "execution_count": 18,
     "metadata": {},
     "output_type": "execute_result"
    }
   ],
   "source": [
    "geo_df_buildings.geometry[1]"
   ]
  },
  {
   "cell_type": "code",
   "execution_count": 17,
   "metadata": {
    "collapsed": false
   },
   "outputs": [
    {
     "ename": "AssertionError",
     "evalue": "",
     "output_type": "error",
     "traceback": [
      "\u001b[0;31m---------------------------------------------------------------------------\u001b[0m",
      "\u001b[0;31mAssertionError\u001b[0m                            Traceback (most recent call last)",
      "\u001b[0;32m<ipython-input-17-e500a5295f46>\u001b[0m in \u001b[0;36m<module>\u001b[0;34m()\u001b[0m\n\u001b[0;32m----> 1\u001b[0;31m \u001b[0mgeo_df_buildings\u001b[0m\u001b[0;34m.\u001b[0m\u001b[0mset_geometry\u001b[0m\u001b[0;34m(\u001b[0m\u001b[0mgeo_df_buildings\u001b[0m\u001b[0;34m.\u001b[0m\u001b[0mgeometry\u001b[0m\u001b[0;34m.\u001b[0m\u001b[0mapply\u001b[0m\u001b[0;34m(\u001b[0m\u001b[0mshapely\u001b[0m\u001b[0;34m.\u001b[0m\u001b[0mgeometry\u001b[0m\u001b[0;34m.\u001b[0m\u001b[0mPolygon\u001b[0m\u001b[0;34m)\u001b[0m\u001b[0;34m,\u001b[0m \u001b[0minplace\u001b[0m\u001b[0;34m=\u001b[0m\u001b[0mTrue\u001b[0m\u001b[0;34m)\u001b[0m\u001b[0;34m\u001b[0m\u001b[0m\n\u001b[0m\u001b[1;32m      2\u001b[0m \u001b[0;31m#buildings = geo_df_buildings.unary_union\u001b[0m\u001b[0;34m\u001b[0m\u001b[0;34m\u001b[0m\u001b[0m\n",
      "\u001b[0;32m/home/ubuntu/anaconda2/envs/scienv2/lib/python2.7/site-packages/pandas/core/series.pyc\u001b[0m in \u001b[0;36mapply\u001b[0;34m(self, func, convert_dtype, args, **kwds)\u001b[0m\n\u001b[1;32m   2353\u001b[0m             \u001b[0;32melse\u001b[0m\u001b[0;34m:\u001b[0m\u001b[0;34m\u001b[0m\u001b[0m\n\u001b[1;32m   2354\u001b[0m                 \u001b[0mvalues\u001b[0m \u001b[0;34m=\u001b[0m \u001b[0mself\u001b[0m\u001b[0;34m.\u001b[0m\u001b[0masobject\u001b[0m\u001b[0;34m\u001b[0m\u001b[0m\n\u001b[0;32m-> 2355\u001b[0;31m                 \u001b[0mmapped\u001b[0m \u001b[0;34m=\u001b[0m \u001b[0mlib\u001b[0m\u001b[0;34m.\u001b[0m\u001b[0mmap_infer\u001b[0m\u001b[0;34m(\u001b[0m\u001b[0mvalues\u001b[0m\u001b[0;34m,\u001b[0m \u001b[0mf\u001b[0m\u001b[0;34m,\u001b[0m \u001b[0mconvert\u001b[0m\u001b[0;34m=\u001b[0m\u001b[0mconvert_dtype\u001b[0m\u001b[0;34m)\u001b[0m\u001b[0;34m\u001b[0m\u001b[0m\n\u001b[0m\u001b[1;32m   2356\u001b[0m \u001b[0;34m\u001b[0m\u001b[0m\n\u001b[1;32m   2357\u001b[0m         \u001b[0;32mif\u001b[0m \u001b[0mlen\u001b[0m\u001b[0;34m(\u001b[0m\u001b[0mmapped\u001b[0m\u001b[0;34m)\u001b[0m \u001b[0;32mand\u001b[0m \u001b[0misinstance\u001b[0m\u001b[0;34m(\u001b[0m\u001b[0mmapped\u001b[0m\u001b[0;34m[\u001b[0m\u001b[0;36m0\u001b[0m\u001b[0;34m]\u001b[0m\u001b[0;34m,\u001b[0m \u001b[0mSeries\u001b[0m\u001b[0;34m)\u001b[0m\u001b[0;34m:\u001b[0m\u001b[0;34m\u001b[0m\u001b[0m\n",
      "\u001b[0;32mpandas/_libs/src/inference.pyx\u001b[0m in \u001b[0;36mpandas._libs.lib.map_infer (pandas/_libs/lib.c:66645)\u001b[0;34m()\u001b[0m\n",
      "\u001b[0;32m/home/ubuntu/anaconda2/envs/scienv2/lib/python2.7/site-packages/shapely/geometry/polygon.pyc\u001b[0m in \u001b[0;36m__init__\u001b[0;34m(self, shell, holes)\u001b[0m\n\u001b[1;32m    227\u001b[0m \u001b[0;34m\u001b[0m\u001b[0m\n\u001b[1;32m    228\u001b[0m         \u001b[0;32mif\u001b[0m \u001b[0mshell\u001b[0m \u001b[0;32mis\u001b[0m \u001b[0;32mnot\u001b[0m \u001b[0mNone\u001b[0m\u001b[0;34m:\u001b[0m\u001b[0;34m\u001b[0m\u001b[0m\n\u001b[0;32m--> 229\u001b[0;31m             \u001b[0mself\u001b[0m\u001b[0;34m.\u001b[0m\u001b[0m_geom\u001b[0m\u001b[0;34m,\u001b[0m \u001b[0mself\u001b[0m\u001b[0;34m.\u001b[0m\u001b[0m_ndim\u001b[0m \u001b[0;34m=\u001b[0m \u001b[0mgeos_polygon_from_py\u001b[0m\u001b[0;34m(\u001b[0m\u001b[0mshell\u001b[0m\u001b[0;34m,\u001b[0m \u001b[0mholes\u001b[0m\u001b[0;34m)\u001b[0m\u001b[0;34m\u001b[0m\u001b[0m\n\u001b[0m\u001b[1;32m    230\u001b[0m \u001b[0;34m\u001b[0m\u001b[0m\n\u001b[1;32m    231\u001b[0m     \u001b[0;34m@\u001b[0m\u001b[0mproperty\u001b[0m\u001b[0;34m\u001b[0m\u001b[0m\n",
      "\u001b[0;32m/home/ubuntu/anaconda2/envs/scienv2/lib/python2.7/site-packages/shapely/geometry/polygon.pyc\u001b[0m in \u001b[0;36mgeos_polygon_from_py\u001b[0;34m(shell, holes)\u001b[0m\n\u001b[1;32m    506\u001b[0m \u001b[0;34m\u001b[0m\u001b[0m\n\u001b[1;32m    507\u001b[0m     \u001b[0;32mif\u001b[0m \u001b[0mshell\u001b[0m \u001b[0;32mis\u001b[0m \u001b[0;32mnot\u001b[0m \u001b[0mNone\u001b[0m\u001b[0;34m:\u001b[0m\u001b[0;34m\u001b[0m\u001b[0m\n\u001b[0;32m--> 508\u001b[0;31m         \u001b[0mgeos_shell\u001b[0m\u001b[0;34m,\u001b[0m \u001b[0mndim\u001b[0m \u001b[0;34m=\u001b[0m \u001b[0mgeos_linearring_from_py\u001b[0m\u001b[0;34m(\u001b[0m\u001b[0mshell\u001b[0m\u001b[0;34m)\u001b[0m\u001b[0;34m\u001b[0m\u001b[0m\n\u001b[0m\u001b[1;32m    509\u001b[0m         \u001b[0;32mif\u001b[0m \u001b[0mholes\u001b[0m \u001b[0;32mis\u001b[0m \u001b[0;32mnot\u001b[0m \u001b[0mNone\u001b[0m \u001b[0;32mand\u001b[0m \u001b[0mlen\u001b[0m\u001b[0;34m(\u001b[0m\u001b[0mholes\u001b[0m\u001b[0;34m)\u001b[0m \u001b[0;34m>\u001b[0m \u001b[0;36m0\u001b[0m\u001b[0;34m:\u001b[0m\u001b[0;34m\u001b[0m\u001b[0m\n\u001b[1;32m    510\u001b[0m             \u001b[0mob\u001b[0m \u001b[0;34m=\u001b[0m \u001b[0mholes\u001b[0m\u001b[0;34m\u001b[0m\u001b[0m\n",
      "\u001b[0;32m/home/ubuntu/anaconda2/envs/scienv2/lib/python2.7/site-packages/shapely/geometry/polygon.pyc\u001b[0m in \u001b[0;36mgeos_linearring_from_py\u001b[0;34m(ob, update_geom, update_ndim)\u001b[0m\n\u001b[1;32m    452\u001b[0m             raise ValueError(\n\u001b[1;32m    453\u001b[0m                 \"A LinearRing must have at least 3 coordinate tuples\")\n\u001b[0;32m--> 454\u001b[0;31m         \u001b[0;32massert\u001b[0m \u001b[0;34m(\u001b[0m\u001b[0mn\u001b[0m \u001b[0;34m==\u001b[0m \u001b[0;36m2\u001b[0m \u001b[0;32mor\u001b[0m \u001b[0mn\u001b[0m \u001b[0;34m==\u001b[0m \u001b[0;36m3\u001b[0m\u001b[0;34m)\u001b[0m\u001b[0;34m\u001b[0m\u001b[0m\n\u001b[0m\u001b[1;32m    455\u001b[0m \u001b[0;34m\u001b[0m\u001b[0m\n\u001b[1;32m    456\u001b[0m         \u001b[0;31m# Add closing coordinates if not provided\u001b[0m\u001b[0;34m\u001b[0m\u001b[0;34m\u001b[0m\u001b[0m\n",
      "\u001b[0;31mAssertionError\u001b[0m: "
     ]
    }
   ],
   "source": [
    "geo_df_buildings.set_geometry(geo_df_buildings.geometry.apply(shapely.geometry.Polygon), inplace=True)\n",
    "#buildings = geo_df_buildings.unary_union\n"
   ]
  },
  {
   "cell_type": "code",
   "execution_count": null,
   "metadata": {
    "collapsed": true
   },
   "outputs": [],
   "source": []
  },
  {
   "cell_type": "code",
   "execution_count": null,
   "metadata": {
    "collapsed": true
   },
   "outputs": [],
   "source": []
  }
 ],
 "metadata": {
  "kernelspec": {
   "display_name": "Python 2",
   "language": "python",
   "name": "python2"
  },
  "language_info": {
   "codemirror_mode": {
    "name": "ipython",
    "version": 2
   },
   "file_extension": ".py",
   "mimetype": "text/x-python",
   "name": "python",
   "nbconvert_exporter": "python",
   "pygments_lexer": "ipython2",
   "version": "2.7.13"
  }
 },
 "nbformat": 4,
 "nbformat_minor": 2
}
